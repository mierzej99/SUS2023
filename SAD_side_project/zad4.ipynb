{
 "cells": [
  {
   "cell_type": "code",
   "execution_count": 1,
   "metadata": {
    "collapsed": true,
    "ExecuteTime": {
     "end_time": "2023-05-31T17:00:30.847639264Z",
     "start_time": "2023-05-31T17:00:29.808695674Z"
    }
   },
   "outputs": [],
   "source": [
    "import os\n",
    "import pandas as pd\n",
    "from sklearn.model_selection import train_test_split, GridSearchCV\n",
    "from sklearn.ensemble import GradientBoostingRegressor\n",
    "import time"
   ]
  },
  {
   "cell_type": "code",
   "execution_count": 2,
   "outputs": [],
   "source": [
    "# ładowanie danych treningowych\n",
    "X = pd.read_csv('X_train.csv', header=0)\n",
    "y = pd.read_csv('y_train.csv', header=0)['Expected']"
   ],
   "metadata": {
    "collapsed": false,
    "ExecuteTime": {
     "end_time": "2023-05-31T17:00:40.992284063Z",
     "start_time": "2023-05-31T17:00:30.847212356Z"
    }
   }
  },
  {
   "cell_type": "code",
   "execution_count": 3,
   "outputs": [],
   "source": [
    "# podział danych (X_test i y_test posłużą jako dane walidacyjne)\n",
    "X_train, X_test, y_train, y_test = train_test_split(X, y, test_size=0.1)\n",
    "X_train = X_train.iloc[:100,:1000]\n",
    "y_train = y_train[:100]"
   ],
   "metadata": {
    "collapsed": false,
    "ExecuteTime": {
     "end_time": "2023-05-31T17:00:41.125415057Z",
     "start_time": "2023-05-31T17:00:40.997187415Z"
    }
   }
  },
  {
   "cell_type": "markdown",
   "source": [
    "## GradientBoosting"
   ],
   "metadata": {
    "collapsed": false
   }
  },
  {
   "cell_type": "code",
   "execution_count": null,
   "outputs": [
    {
     "name": "stdout",
     "output_type": "stream",
     "text": [
      "Fitting 2 folds for each of 288 candidates, totalling 576 fits\n",
      "[CV 1/2] END criterion=friedman_mse, learning_rate=0.1, max_depth=10, n_estimators=100, subsample=1.0;, score=-1.542 total time=   1.1s\n",
      "[CV 2/2] END criterion=friedman_mse, learning_rate=0.1, max_depth=10, n_estimators=300, subsample=0.8;, score=-0.951 total time=   2.0s\n",
      "[CV 2/2] END criterion=friedman_mse, learning_rate=0.1, max_depth=10, n_estimators=500, subsample=0.8;, score=-1.010 total time=   2.4s\n",
      "[CV 2/2] END criterion=friedman_mse, learning_rate=0.1, max_depth=10, n_estimators=700, subsample=0.8;, score=-0.905 total time=   2.6s\n",
      "[CV 1/2] END criterion=friedman_mse, learning_rate=0.1, max_depth=10, n_estimators=900, subsample=1.0;, score=-1.550 total time=   2.8s\n",
      "[CV 2/2] END criterion=friedman_mse, learning_rate=0.1, max_depth=10, n_estimators=1100, subsample=0.8;, score=-0.949 total time=   3.7s\n",
      "[CV 2/2] END criterion=friedman_mse, learning_rate=0.1, max_depth=25, n_estimators=100, subsample=1.0;, score=-1.187 total time=   1.1s\n",
      "[CV 2/2] END criterion=friedman_mse, learning_rate=0.1, max_depth=25, n_estimators=300, subsample=1.0;, score=-1.197 total time=   2.2s\n",
      "[CV 2/2] END criterion=friedman_mse, learning_rate=0.1, max_depth=25, n_estimators=500, subsample=1.0;, score=-1.176 total time=   2.1s\n",
      "[CV 2/2] END criterion=friedman_mse, learning_rate=0.1, max_depth=25, n_estimators=700, subsample=1.0;, score=-1.200 total time=   2.1s\n",
      "[CV 2/2] END criterion=friedman_mse, learning_rate=0.1, max_depth=25, n_estimators=900, subsample=1.0;, score=-1.183 total time=   2.3s\n",
      "[CV 2/2] END criterion=friedman_mse, learning_rate=0.1, max_depth=25, n_estimators=1100, subsample=1.0;, score=-1.204 total time=   2.4s\n",
      "[CV 2/2] END criterion=friedman_mse, learning_rate=0.1, max_depth=40, n_estimators=100, subsample=1.0;, score=-1.186 total time=   1.1s\n",
      "[CV 2/2] END criterion=friedman_mse, learning_rate=0.1, max_depth=40, n_estimators=300, subsample=1.0;, score=-1.171 total time=   1.8s\n",
      "[CV 1/2] END criterion=friedman_mse, learning_rate=0.1, max_depth=40, n_estimators=500, subsample=1.0;, score=-1.598 total time=   1.8s\n",
      "[CV 1/2] END criterion=friedman_mse, learning_rate=0.1, max_depth=40, n_estimators=700, subsample=1.0;, score=-1.553 total time=   2.0s\n",
      "[CV 1/2] END criterion=friedman_mse, learning_rate=0.1, max_depth=40, n_estimators=900, subsample=0.8;, score=-1.397 total time=   2.4s\n",
      "[CV 1/2] END criterion=friedman_mse, learning_rate=0.1, max_depth=40, n_estimators=1100, subsample=0.8;, score=-1.347 total time=   2.5s\n",
      "[CV 2/2] END criterion=friedman_mse, learning_rate=0.1, max_depth=None, n_estimators=100, subsample=0.8;, score=-0.952 total time=   1.0s\n",
      "[CV 2/2] END criterion=friedman_mse, learning_rate=0.1, max_depth=None, n_estimators=300, subsample=0.8;, score=-0.923 total time=   2.9s\n",
      "[CV 1/2] END criterion=friedman_mse, learning_rate=0.1, max_depth=None, n_estimators=500, subsample=1.0;, score=-1.563 total time=   3.2s\n",
      "[CV 1/2] END criterion=friedman_mse, learning_rate=0.1, max_depth=None, n_estimators=700, subsample=1.0;, score=-1.584 total time=   3.0s\n",
      "[CV 2/2] END criterion=friedman_mse, learning_rate=0.1, max_depth=None, n_estimators=900, subsample=1.0;, score=-1.183 total time=   3.0s\n",
      "[CV 2/2] END criterion=friedman_mse, learning_rate=0.1, max_depth=None, n_estimators=1100, subsample=0.8;, score=-0.908 total time=   3.4s\n",
      "[CV 2/2] END criterion=friedman_mse, learning_rate=0.01, max_depth=10, n_estimators=100, subsample=0.8;, score=-1.081 total time=   1.3s\n",
      "[CV 2/2] END criterion=friedman_mse, learning_rate=0.01, max_depth=10, n_estimators=300, subsample=0.8;, score=-0.943 total time=   3.1s\n",
      "[CV 2/2] END criterion=friedman_mse, learning_rate=0.01, max_depth=10, n_estimators=500, subsample=0.8;, score=-0.936 total time=   4.2s\n",
      "[CV 2/2] END criterion=friedman_mse, learning_rate=0.01, max_depth=10, n_estimators=700, subsample=0.8;, score=-0.923 total time=   5.6s\n",
      "[CV 2/2] END criterion=friedman_mse, learning_rate=0.01, max_depth=10, n_estimators=900, subsample=0.8;, score=-0.914 total time=   8.2s\n",
      "[CV 2/2] END criterion=friedman_mse, learning_rate=0.01, max_depth=10, n_estimators=1100, subsample=0.8;, score=-0.936 total time=  10.7s\n",
      "[CV 1/2] END criterion=friedman_mse, learning_rate=0.01, max_depth=25, n_estimators=300, subsample=0.8;, score=-1.404 total time=   2.2s\n",
      "[CV 1/2] END criterion=friedman_mse, learning_rate=0.01, max_depth=25, n_estimators=300, subsample=1.0;, score=-1.547 total time=   2.9s\n",
      "[CV 2/2] END criterion=friedman_mse, learning_rate=0.01, max_depth=25, n_estimators=500, subsample=0.8;, score=-0.931 total time=   4.1s\n",
      "[CV 2/2] END criterion=friedman_mse, learning_rate=0.01, max_depth=25, n_estimators=700, subsample=0.8;, score=-0.926 total time=   5.8s\n",
      "[CV 2/2] END criterion=friedman_mse, learning_rate=0.01, max_depth=25, n_estimators=900, subsample=0.8;, score=-0.935 total time=   8.6s\n",
      "[CV 2/2] END criterion=friedman_mse, learning_rate=0.01, max_depth=25, n_estimators=1100, subsample=0.8;, score=-0.946 total time=  10.1s\n",
      "[CV 1/2] END criterion=friedman_mse, learning_rate=0.01, max_depth=40, n_estimators=300, subsample=0.8;, score=-1.405 total time=   2.6s\n",
      "[CV 1/2] END criterion=friedman_mse, learning_rate=0.01, max_depth=40, n_estimators=300, subsample=1.0;, score=-1.552 total time=   3.1s\n",
      "[CV 2/2] END criterion=friedman_mse, learning_rate=0.01, max_depth=40, n_estimators=500, subsample=0.8;, score=-0.917 total time=   4.2s\n",
      "[CV 2/2] END criterion=friedman_mse, learning_rate=0.01, max_depth=40, n_estimators=700, subsample=0.8;, score=-0.944 total time=   5.9s\n",
      "[CV 2/2] END criterion=friedman_mse, learning_rate=0.01, max_depth=40, n_estimators=900, subsample=0.8;, score=-0.940 total time=   8.6s\n",
      "[CV 2/2] END criterion=friedman_mse, learning_rate=0.01, max_depth=40, n_estimators=1100, subsample=0.8;, score=-0.954 total time=  10.1s\n",
      "[CV 1/2] END criterion=friedman_mse, learning_rate=0.01, max_depth=None, n_estimators=100, subsample=1.0;, score=-1.531 total time=   1.1s\n",
      "[CV 1/2] END criterion=friedman_mse, learning_rate=0.01, max_depth=None, n_estimators=300, subsample=0.8;, score=-1.385 total time=   2.4s\n",
      "[CV 1/2] END criterion=friedman_mse, learning_rate=0.01, max_depth=None, n_estimators=300, subsample=1.0;, score=-1.547 total time=   3.2s\n",
      "[CV 1/2] END criterion=friedman_mse, learning_rate=0.01, max_depth=None, n_estimators=500, subsample=0.8;, score=-1.347 total time=   5.0s\n",
      "[CV 1/2] END criterion=friedman_mse, learning_rate=0.01, max_depth=None, n_estimators=700, subsample=0.8;, score=-1.344 total time=   6.3s\n",
      "[CV 1/2] END criterion=friedman_mse, learning_rate=0.01, max_depth=None, n_estimators=900, subsample=0.8;, score=-1.342 total time=   8.4s\n",
      "[CV 1/2] END criterion=friedman_mse, learning_rate=0.01, max_depth=None, n_estimators=1100, subsample=0.8;, score=-1.384 total time=   9.4s\n",
      "[CV 1/2] END criterion=friedman_mse, learning_rate=0.001, max_depth=10, n_estimators=100, subsample=0.8;, score=-1.814 total time=   0.7s\n",
      "[CV 2/2] END criterion=friedman_mse, learning_rate=0.001, max_depth=10, n_estimators=100, subsample=0.8;, score=-1.637 total time=   0.8s\n",
      "[CV 1/2] END criterion=friedman_mse, learning_rate=0.001, max_depth=10, n_estimators=100, subsample=1.0;, score=-1.805 total time=   0.9s\n",
      "[CV 1/2] END criterion=friedman_mse, learning_rate=0.001, max_depth=10, n_estimators=300, subsample=0.8;, score=-1.698 total time=   2.4s\n",
      "[CV 1/2] END criterion=friedman_mse, learning_rate=0.001, max_depth=10, n_estimators=300, subsample=1.0;, score=-1.689 total time=   3.0s\n",
      "[CV 2/2] END criterion=friedman_mse, learning_rate=0.001, max_depth=10, n_estimators=500, subsample=0.8;, score=-1.298 total time=   5.1s\n",
      "[CV 2/2] END criterion=friedman_mse, learning_rate=0.001, max_depth=10, n_estimators=700, subsample=0.8;, score=-1.195 total time=   5.6s\n",
      "[CV 2/2] END criterion=friedman_mse, learning_rate=0.001, max_depth=10, n_estimators=900, subsample=0.8;, score=-1.119 total time=   8.1s\n",
      "[CV 2/2] END criterion=friedman_mse, learning_rate=0.001, max_depth=10, n_estimators=1100, subsample=0.8;, score=-1.054 total time=   9.5s\n",
      "[CV 2/2] END criterion=friedman_mse, learning_rate=0.001, max_depth=25, n_estimators=100, subsample=1.0;, score=-1.641 total time=   1.1s\n",
      "[CV 2/2] END criterion=friedman_mse, learning_rate=0.1, max_depth=10, n_estimators=100, subsample=1.0;, score=-1.143 total time=   1.5s\n",
      "[CV 2/2] END criterion=friedman_mse, learning_rate=0.1, max_depth=10, n_estimators=300, subsample=1.0;, score=-1.201 total time=   2.4s\n",
      "[CV 2/2] END criterion=friedman_mse, learning_rate=0.1, max_depth=10, n_estimators=500, subsample=1.0;, score=-1.170 total time=   2.6s\n",
      "[CV 2/2] END criterion=friedman_mse, learning_rate=0.1, max_depth=10, n_estimators=700, subsample=1.0;, score=-1.172 total time=   2.3s\n",
      "[CV 2/2] END criterion=friedman_mse, learning_rate=0.1, max_depth=10, n_estimators=900, subsample=1.0;, score=-1.172 total time=   3.8s\n",
      "[CV 2/2] END criterion=friedman_mse, learning_rate=0.1, max_depth=10, n_estimators=1100, subsample=1.0;, score=-1.192 total time=   2.5s\n",
      "[CV 2/2] END criterion=friedman_mse, learning_rate=0.1, max_depth=25, n_estimators=300, subsample=0.8;, score=-0.932 total time=   2.3s\n",
      "[CV 2/2] END criterion=friedman_mse, learning_rate=0.1, max_depth=25, n_estimators=500, subsample=0.8;, score=-0.962 total time=   2.2s\n",
      "[CV 1/2] END criterion=friedman_mse, learning_rate=0.1, max_depth=25, n_estimators=700, subsample=1.0;, score=-1.556 total time=   1.9s\n",
      "[CV 2/2] END criterion=friedman_mse, learning_rate=0.1, max_depth=25, n_estimators=900, subsample=0.8;, score=-0.984 total time=   2.5s\n",
      "[CV 2/2] END criterion=friedman_mse, learning_rate=0.1, max_depth=25, n_estimators=1100, subsample=0.8;, score=-0.972 total time=   2.7s\n",
      "[CV 1/2] END criterion=friedman_mse, learning_rate=0.1, max_depth=40, n_estimators=100, subsample=1.0;, score=-1.561 total time=   1.2s\n",
      "[CV 1/2] END criterion=friedman_mse, learning_rate=0.1, max_depth=40, n_estimators=300, subsample=1.0;, score=-1.604 total time=   2.0s\n",
      "[CV 2/2] END criterion=friedman_mse, learning_rate=0.1, max_depth=40, n_estimators=500, subsample=1.0;, score=-1.187 total time=   2.3s\n",
      "[CV 2/2] END criterion=friedman_mse, learning_rate=0.1, max_depth=40, n_estimators=700, subsample=1.0;, score=-1.188 total time=   2.1s\n",
      "[CV 2/2] END criterion=friedman_mse, learning_rate=0.1, max_depth=40, n_estimators=900, subsample=1.0;, score=-1.197 total time=   2.1s\n",
      "[CV 2/2] END criterion=friedman_mse, learning_rate=0.1, max_depth=40, n_estimators=1100, subsample=1.0;, score=-1.197 total time=   2.3s\n",
      "[CV 1/2] END criterion=friedman_mse, learning_rate=0.1, max_depth=None, n_estimators=100, subsample=1.0;, score=-1.562 total time=   1.0s\n",
      "[CV 1/2] END criterion=friedman_mse, learning_rate=0.1, max_depth=None, n_estimators=300, subsample=1.0;, score=-1.578 total time=   1.9s\n",
      "[CV 1/2] END criterion=friedman_mse, learning_rate=0.1, max_depth=None, n_estimators=500, subsample=0.8;, score=-1.413 total time=   2.8s\n",
      "[CV 1/2] END criterion=friedman_mse, learning_rate=0.1, max_depth=None, n_estimators=700, subsample=0.8;, score=-1.171 total time=   3.7s\n",
      "[CV 1/2] END criterion=friedman_mse, learning_rate=0.1, max_depth=None, n_estimators=900, subsample=1.0;, score=-1.552 total time=   3.2s\n",
      "[CV 1/2] END criterion=friedman_mse, learning_rate=0.1, max_depth=None, n_estimators=1100, subsample=0.8;, score=-1.386 total time=   3.4s\n",
      "[CV 1/2] END criterion=friedman_mse, learning_rate=0.01, max_depth=10, n_estimators=100, subsample=0.8;, score=-1.509 total time=   1.2s\n",
      "[CV 2/2] END criterion=friedman_mse, learning_rate=0.01, max_depth=10, n_estimators=100, subsample=1.0;, score=-1.194 total time=   1.3s\n",
      "[CV 1/2] END criterion=friedman_mse, learning_rate=0.01, max_depth=10, n_estimators=300, subsample=1.0;, score=-1.528 total time=   3.0s\n",
      "[CV 1/2] END criterion=friedman_mse, learning_rate=0.01, max_depth=10, n_estimators=500, subsample=1.0;, score=-1.535 total time=   5.4s\n",
      "[CV 1/2] END criterion=friedman_mse, learning_rate=0.01, max_depth=10, n_estimators=700, subsample=1.0;, score=-1.537 total time=   6.9s\n",
      "[CV 1/2] END criterion=friedman_mse, learning_rate=0.01, max_depth=10, n_estimators=900, subsample=1.0;, score=-1.544 total time=   8.6s\n",
      "[CV 1/2] END criterion=friedman_mse, learning_rate=0.01, max_depth=10, n_estimators=1100, subsample=1.0;, score=-1.536 total time=  10.4s\n",
      "[CV 1/2] END criterion=friedman_mse, learning_rate=0.01, max_depth=25, n_estimators=500, subsample=0.8;, score=-1.365 total time=   3.8s\n",
      "[CV 2/2] END criterion=friedman_mse, learning_rate=0.01, max_depth=25, n_estimators=500, subsample=1.0;, score=-1.158 total time=   6.3s\n",
      "[CV 1/2] END criterion=friedman_mse, learning_rate=0.01, max_depth=25, n_estimators=900, subsample=0.8;, score=-1.375 total time=   7.6s\n",
      "[CV 1/2] END criterion=friedman_mse, learning_rate=0.01, max_depth=25, n_estimators=1100, subsample=0.8;, score=-1.386 total time=   9.3s\n",
      "[CV 1/2] END criterion=friedman_mse, learning_rate=0.01, max_depth=40, n_estimators=100, subsample=0.8;, score=-1.514 total time=   0.9s\n",
      "[CV 2/2] END criterion=friedman_mse, learning_rate=0.01, max_depth=40, n_estimators=100, subsample=0.8;, score=-1.111 total time=   0.9s\n",
      "[CV 1/2] END criterion=friedman_mse, learning_rate=0.01, max_depth=40, n_estimators=100, subsample=1.0;, score=-1.539 total time=   1.2s\n",
      "[CV 2/2] END criterion=friedman_mse, learning_rate=0.01, max_depth=40, n_estimators=100, subsample=1.0;, score=-1.188 total time=   1.2s\n",
      "[CV 2/2] END criterion=friedman_mse, learning_rate=0.01, max_depth=40, n_estimators=300, subsample=0.8;, score=-0.943 total time=   2.9s\n",
      "[CV 2/2] END criterion=friedman_mse, learning_rate=0.01, max_depth=40, n_estimators=300, subsample=1.0;, score=-1.167 total time=   4.0s\n",
      "[CV 2/2] END criterion=friedman_mse, learning_rate=0.01, max_depth=40, n_estimators=500, subsample=1.0;, score=-1.174 total time=   6.4s\n",
      "[CV 1/2] END criterion=friedman_mse, learning_rate=0.01, max_depth=40, n_estimators=900, subsample=0.8;, score=-1.391 total time=   7.9s\n",
      "[CV 2/2] END criterion=friedman_mse, learning_rate=0.01, max_depth=40, n_estimators=900, subsample=1.0;, score=-1.185 total time=  10.7s\n",
      "[CV 1/2] END criterion=friedman_mse, learning_rate=0.01, max_depth=None, n_estimators=100, subsample=0.8;, score=-1.488 total time=   0.8s\n",
      "[CV 2/2] END criterion=friedman_mse, learning_rate=0.01, max_depth=None, n_estimators=100, subsample=0.8;, score=-1.085 total time=   0.8s\n",
      "[CV 2/2] END criterion=friedman_mse, learning_rate=0.01, max_depth=None, n_estimators=100, subsample=1.0;, score=-1.185 total time=   1.1s\n",
      "[CV 2/2] END criterion=friedman_mse, learning_rate=0.01, max_depth=None, n_estimators=300, subsample=0.8;, score=-0.938 total time=   2.5s\n",
      "[CV 2/2] END criterion=friedman_mse, learning_rate=0.01, max_depth=None, n_estimators=300, subsample=1.0;, score=-1.162 total time=   3.4s\n",
      "[CV 1/2] END criterion=friedman_mse, learning_rate=0.01, max_depth=None, n_estimators=500, subsample=1.0;, score=-1.569 total time=   5.9s\n",
      "[CV 1/2] END criterion=friedman_mse, learning_rate=0.01, max_depth=None, n_estimators=700, subsample=1.0;, score=-1.559 total time=   7.8s\n",
      "[CV 1/2] END criterion=friedman_mse, learning_rate=0.01, max_depth=None, n_estimators=900, subsample=1.0;, score=-1.571 total time=   9.3s\n",
      "[CV 1/2] END criterion=friedman_mse, learning_rate=0.01, max_depth=None, n_estimators=1100, subsample=1.0;, score=-1.559 total time=  12.0s\n",
      "[CV 1/2] END criterion=friedman_mse, learning_rate=0.001, max_depth=10, n_estimators=500, subsample=0.8;, score=-1.618 total time=   4.0s\n",
      "[CV 2/2] END criterion=friedman_mse, learning_rate=0.001, max_depth=10, n_estimators=500, subsample=1.0;, score=-1.341 total time=   5.9s\n",
      "[CV 2/2] END criterion=friedman_mse, learning_rate=0.001, max_depth=10, n_estimators=700, subsample=1.0;, score=-1.260 total time=   8.6s\n",
      "[CV 1/2] END criterion=friedman_mse, learning_rate=0.001, max_depth=10, n_estimators=1100, subsample=0.8;, score=-1.485 total time=   8.4s\n",
      "[CV 2/2] END criterion=friedman_mse, learning_rate=0.001, max_depth=10, n_estimators=1100, subsample=1.0;, score=-1.175 total time=  12.5s\n",
      "[CV 1/2] END criterion=friedman_mse, learning_rate=0.001, max_depth=25, n_estimators=700, subsample=0.8;, score=-1.557 total time=   5.9s\n",
      "[CV 1/2] END criterion=friedman_mse, learning_rate=0.001, max_depth=25, n_estimators=900, subsample=0.8;, score=-1.519 total time=   7.6s\n",
      "[CV 2/2] END criterion=friedman_mse, learning_rate=0.1, max_depth=10, n_estimators=100, subsample=0.8;, score=-0.921 total time=   1.0s\n",
      "[CV 1/2] END criterion=friedman_mse, learning_rate=0.1, max_depth=10, n_estimators=300, subsample=0.8;, score=-1.347 total time=   2.1s\n",
      "[CV 1/2] END criterion=friedman_mse, learning_rate=0.1, max_depth=10, n_estimators=500, subsample=0.8;, score=-1.336 total time=   2.3s\n",
      "[CV 1/2] END criterion=friedman_mse, learning_rate=0.1, max_depth=10, n_estimators=700, subsample=0.8;, score=-1.393 total time=   2.2s\n",
      "[CV 1/2] END criterion=friedman_mse, learning_rate=0.1, max_depth=10, n_estimators=900, subsample=0.8;, score=-1.326 total time=   3.1s\n",
      "[CV 1/2] END criterion=friedman_mse, learning_rate=0.1, max_depth=10, n_estimators=1100, subsample=0.8;, score=-1.373 total time=   3.1s\n",
      "[CV 1/2] END criterion=friedman_mse, learning_rate=0.1, max_depth=25, n_estimators=100, subsample=0.8;, score=-1.312 total time=   0.8s\n",
      "[CV 1/2] END criterion=friedman_mse, learning_rate=0.1, max_depth=25, n_estimators=100, subsample=1.0;, score=-1.558 total time=   1.0s\n",
      "[CV 1/2] END criterion=friedman_mse, learning_rate=0.1, max_depth=25, n_estimators=300, subsample=1.0;, score=-1.581 total time=   1.8s\n",
      "[CV 1/2] END criterion=friedman_mse, learning_rate=0.1, max_depth=25, n_estimators=500, subsample=1.0;, score=-1.563 total time=   1.9s\n",
      "[CV 2/2] END criterion=friedman_mse, learning_rate=0.1, max_depth=25, n_estimators=700, subsample=0.8;, score=-0.921 total time=   2.7s\n",
      "[CV 1/2] END criterion=friedman_mse, learning_rate=0.1, max_depth=25, n_estimators=900, subsample=1.0;, score=-1.568 total time=   2.2s\n",
      "[CV 1/2] END criterion=friedman_mse, learning_rate=0.1, max_depth=25, n_estimators=1100, subsample=1.0;, score=-1.570 total time=   2.1s\n",
      "[CV 2/2] END criterion=friedman_mse, learning_rate=0.1, max_depth=40, n_estimators=100, subsample=0.8;, score=-1.016 total time=   0.9s\n",
      "[CV 2/2] END criterion=friedman_mse, learning_rate=0.1, max_depth=40, n_estimators=300, subsample=0.8;, score=-0.935 total time=   2.0s\n",
      "[CV 1/2] END criterion=friedman_mse, learning_rate=0.1, max_depth=40, n_estimators=500, subsample=0.8;, score=-1.370 total time=   2.1s\n",
      "[CV 1/2] END criterion=friedman_mse, learning_rate=0.1, max_depth=40, n_estimators=700, subsample=0.8;, score=-1.349 total time=   2.3s\n",
      "[CV 2/2] END criterion=friedman_mse, learning_rate=0.1, max_depth=40, n_estimators=900, subsample=0.8;, score=-0.944 total time=   2.6s\n",
      "[CV 1/2] END criterion=friedman_mse, learning_rate=0.1, max_depth=40, n_estimators=1100, subsample=1.0;, score=-1.591 total time=   2.2s\n",
      "[CV 1/2] END criterion=friedman_mse, learning_rate=0.1, max_depth=None, n_estimators=100, subsample=0.8;, score=-1.363 total time=   0.8s\n",
      "[CV 1/2] END criterion=friedman_mse, learning_rate=0.1, max_depth=None, n_estimators=300, subsample=0.8;, score=-1.352 total time=   2.4s\n",
      "[CV 2/2] END criterion=friedman_mse, learning_rate=0.1, max_depth=None, n_estimators=500, subsample=0.8;, score=-0.910 total time=   2.9s\n",
      "[CV 2/2] END criterion=friedman_mse, learning_rate=0.1, max_depth=None, n_estimators=700, subsample=0.8;, score=-0.917 total time=   3.1s\n",
      "[CV 1/2] END criterion=friedman_mse, learning_rate=0.1, max_depth=None, n_estimators=900, subsample=0.8;, score=-1.334 total time=   4.5s\n",
      "[CV 2/2] END criterion=friedman_mse, learning_rate=0.1, max_depth=None, n_estimators=1100, subsample=1.0;, score=-1.232 total time=   3.9s\n",
      "[CV 1/2] END criterion=friedman_mse, learning_rate=0.01, max_depth=10, n_estimators=300, subsample=0.8;, score=-1.380 total time=   2.7s\n",
      "[CV 1/2] END criterion=friedman_mse, learning_rate=0.01, max_depth=10, n_estimators=500, subsample=0.8;, score=-1.330 total time=   4.3s\n",
      "[CV 1/2] END criterion=friedman_mse, learning_rate=0.01, max_depth=10, n_estimators=700, subsample=0.8;, score=-1.382 total time=   5.7s\n",
      "[CV 1/2] END criterion=friedman_mse, learning_rate=0.01, max_depth=10, n_estimators=900, subsample=0.8;, score=-1.354 total time=   7.2s\n",
      "[CV 1/2] END criterion=friedman_mse, learning_rate=0.01, max_depth=10, n_estimators=1100, subsample=0.8;, score=-1.372 total time=   8.4s\n",
      "[CV 1/2] END criterion=friedman_mse, learning_rate=0.01, max_depth=25, n_estimators=100, subsample=0.8;, score=-1.517 total time=   0.8s\n",
      "[CV 2/2] END criterion=friedman_mse, learning_rate=0.01, max_depth=25, n_estimators=100, subsample=0.8;, score=-1.083 total time=   0.9s\n",
      "[CV 1/2] END criterion=friedman_mse, learning_rate=0.01, max_depth=25, n_estimators=100, subsample=1.0;, score=-1.536 total time=   1.2s\n",
      "[CV 2/2] END criterion=friedman_mse, learning_rate=0.01, max_depth=25, n_estimators=100, subsample=1.0;, score=-1.188 total time=   1.2s\n",
      "[CV 2/2] END criterion=friedman_mse, learning_rate=0.01, max_depth=25, n_estimators=300, subsample=0.8;, score=-0.952 total time=   2.6s\n",
      "[CV 2/2] END criterion=friedman_mse, learning_rate=0.01, max_depth=25, n_estimators=300, subsample=1.0;, score=-1.161 total time=   3.5s\n",
      "[CV 1/2] END criterion=friedman_mse, learning_rate=0.01, max_depth=25, n_estimators=500, subsample=1.0;, score=-1.557 total time=   4.9s\n",
      "[CV 1/2] END criterion=friedman_mse, learning_rate=0.01, max_depth=25, n_estimators=700, subsample=1.0;, score=-1.556 total time=   6.8s\n",
      "[CV 1/2] END criterion=friedman_mse, learning_rate=0.01, max_depth=25, n_estimators=900, subsample=1.0;, score=-1.561 total time=   8.7s\n",
      "[CV 1/2] END criterion=friedman_mse, learning_rate=0.01, max_depth=25, n_estimators=1100, subsample=1.0;, score=-1.553 total time=  10.9s\n",
      "[CV 1/2] END criterion=friedman_mse, learning_rate=0.01, max_depth=40, n_estimators=500, subsample=0.8;, score=-1.386 total time=   3.9s\n",
      "[CV 1/2] END criterion=friedman_mse, learning_rate=0.01, max_depth=40, n_estimators=500, subsample=1.0;, score=-1.559 total time=   4.8s\n",
      "[CV 1/2] END criterion=friedman_mse, learning_rate=0.01, max_depth=40, n_estimators=700, subsample=1.0;, score=-1.554 total time=   7.0s\n",
      "[CV 1/2] END criterion=friedman_mse, learning_rate=0.01, max_depth=40, n_estimators=900, subsample=1.0;, score=-1.568 total time=   9.8s\n",
      "[CV 1/2] END criterion=friedman_mse, learning_rate=0.01, max_depth=40, n_estimators=1100, subsample=1.0;, score=-1.562 total time=  11.9s\n",
      "[CV 2/2] END criterion=friedman_mse, learning_rate=0.01, max_depth=None, n_estimators=500, subsample=0.8;, score=-0.965 total time=   5.4s\n",
      "[CV 2/2] END criterion=friedman_mse, learning_rate=0.01, max_depth=None, n_estimators=700, subsample=0.8;, score=-0.909 total time=   6.9s\n",
      "[CV 2/2] END criterion=friedman_mse, learning_rate=0.01, max_depth=None, n_estimators=900, subsample=0.8;, score=-0.940 total time=   8.2s\n",
      "[CV 2/2] END criterion=friedman_mse, learning_rate=0.01, max_depth=None, n_estimators=1100, subsample=0.8;, score=-0.937 total time=  10.0s\n",
      "[CV 2/2] END criterion=friedman_mse, learning_rate=0.001, max_depth=10, n_estimators=100, subsample=1.0;, score=-1.641 total time=   1.2s\n",
      "[CV 2/2] END criterion=friedman_mse, learning_rate=0.001, max_depth=10, n_estimators=300, subsample=0.8;, score=-1.446 total time=   2.4s\n",
      "[CV 2/2] END criterion=friedman_mse, learning_rate=0.001, max_depth=10, n_estimators=300, subsample=1.0;, score=-1.466 total time=   3.3s\n",
      "[CV 1/2] END criterion=friedman_mse, learning_rate=0.001, max_depth=10, n_estimators=500, subsample=1.0;, score=-1.614 total time=   4.8s\n",
      "[CV 1/2] END criterion=friedman_mse, learning_rate=0.001, max_depth=10, n_estimators=700, subsample=1.0;, score=-1.570 total time=   6.5s\n",
      "[CV 1/2] END criterion=friedman_mse, learning_rate=0.001, max_depth=10, n_estimators=900, subsample=1.0;, score=-1.542 total time=   9.5s\n",
      "[CV 1/2] END criterion=friedman_mse, learning_rate=0.001, max_depth=10, n_estimators=1100, subsample=1.0;, score=-1.523 total time=  11.1s\n",
      "[CV 1/2] END criterion=friedman_mse, learning_rate=0.001, max_depth=25, n_estimators=500, subsample=0.8;, score=-1.620 total time=   3.7s\n",
      "[CV 2/2] END criterion=friedman_mse, learning_rate=0.001, max_depth=25, n_estimators=500, subsample=1.0;, score=-1.339 total time=   5.7s\n",
      "[CV 2/2] END criterion=friedman_mse, learning_rate=0.001, max_depth=25, n_estimators=700, subsample=1.0;, score=-1.258 total time=   7.8s\n"
     ]
    }
   ],
   "source": [
    "#siatka parametrów do modelu\n",
    "parameters = {\n",
    "    'learning_rate': [0.1, 0.01, 0.001], #3\n",
    "    'n_estimators': [x for x in range(100, 1101, 200)], #6\n",
    "    'subsample': [0.8, 1.0], #2\n",
    "    'criterion': ['friedman_mse', 'squared_error'], #2\n",
    "    'max_depth': [x for x in range(10, 41, 15)] + [None] #4\n",
    "}\n",
    "# model\n",
    "XGB = GradientBoostingRegressor()\n",
    "\n",
    "# cross walidacja\n",
    "start = time.time()\n",
    "reg = GridSearchCV(estimator=XGB, param_grid=parameters, scoring='neg_root_mean_squared_error', n_jobs=os.cpu_count(),\n",
    "                   verbose=4, cv=2)\n",
    "reg.fit(X_train, y_train)\n",
    "print(f'Całość zajęła {time.time() - start} sekund.')"
   ],
   "metadata": {
    "collapsed": false,
    "ExecuteTime": {
     "start_time": "2023-05-31T17:00:41.132284324Z"
    }
   }
  },
  {
   "cell_type": "code",
   "execution_count": null,
   "outputs": [],
   "source": [
    "reg.cv_results_"
   ],
   "metadata": {
    "collapsed": false
   }
  }
 ],
 "metadata": {
  "kernelspec": {
   "display_name": "Python 3",
   "language": "python",
   "name": "python3"
  },
  "language_info": {
   "codemirror_mode": {
    "name": "ipython",
    "version": 2
   },
   "file_extension": ".py",
   "mimetype": "text/x-python",
   "name": "python",
   "nbconvert_exporter": "python",
   "pygments_lexer": "ipython2",
   "version": "2.7.6"
  }
 },
 "nbformat": 4,
 "nbformat_minor": 0
}
