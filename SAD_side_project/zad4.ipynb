{
 "cells": [
  {
   "cell_type": "code",
   "execution_count": 1,
   "metadata": {
    "collapsed": true,
    "ExecuteTime": {
     "end_time": "2023-06-04T13:44:29.922143800Z",
     "start_time": "2023-06-04T13:44:24.253778400Z"
    }
   },
   "outputs": [],
   "source": [
    "import pandas as pd\n",
    "from sklearn.model_selection import train_test_split\n",
    "from sklearn.ensemble import AdaBoostRegressor\n",
    "from sklearn.preprocessing import StandardScaler\n",
    "from sklearn.neural_network import MLPRegressor\n",
    "from sklearn.metrics import mean_squared_error"
   ]
  },
  {
   "cell_type": "markdown",
   "source": [
    "## DANE"
   ],
   "metadata": {
    "collapsed": false
   }
  },
  {
   "cell_type": "code",
   "execution_count": 2,
   "outputs": [],
   "source": [
    "# ładowanie danych treningowych\n",
    "X = pd.read_csv('X_train.csv', header=0)\n",
    "y = pd.read_csv('y_train.csv', header=0)['Expected']\n",
    "\n",
    "# skalowanie danych\n",
    "sc = StandardScaler()\n",
    "X = sc.fit_transform(X)"
   ],
   "metadata": {
    "collapsed": false,
    "ExecuteTime": {
     "end_time": "2023-06-04T13:44:41.327550100Z",
     "start_time": "2023-06-04T13:44:29.924128400Z"
    }
   }
  },
  {
   "cell_type": "code",
   "execution_count": 3,
   "outputs": [],
   "source": [
    "# podział danych (X_test i y_test posłużą jako dane walidacyjne)\n",
    "X_train, X_test, y_train, y_test = train_test_split(X, y, test_size=0.1)"
   ],
   "metadata": {
    "collapsed": false,
    "ExecuteTime": {
     "end_time": "2023-06-04T13:44:41.863240800Z",
     "start_time": "2023-06-04T13:44:41.328550900Z"
    }
   }
  },
  {
   "cell_type": "markdown",
   "source": [
    "# BASELINE model"
   ],
   "metadata": {
    "collapsed": false
   }
  },
  {
   "cell_type": "code",
   "execution_count": 5,
   "outputs": [
    {
     "name": "stdout",
     "output_type": "stream",
     "text": [
      "0.34340281752948465\n",
      "CPU times: total: 3h 34min 49s\n",
      "Wall time: 1h 38min 39s\n"
     ]
    }
   ],
   "source": [
    "%%time\n",
    "# model predykcyjny\n",
    "base2 = AdaBoostRegressor(estimator=MLPRegressor(hidden_layer_sizes=(1000,500,100), activation='tanh'), n_estimators=20)\n",
    "base2.fit(X_train,y_train)\n",
    "print(mean_squared_error(y_test, base2.predict(X_test)))"
   ],
   "metadata": {
    "collapsed": false,
    "ExecuteTime": {
     "end_time": "2023-06-04T15:23:20.966319700Z",
     "start_time": "2023-06-04T13:44:41.871235300Z"
    }
   }
  },
  {
   "cell_type": "code",
   "execution_count": 6,
   "outputs": [],
   "source": [
    "#predykcja na danych do konkursu na kaggle\n",
    "X_konkursowe = pd.read_csv('X_test.csv', header=0)\n",
    "X_konkursowe = sc.transform(X_konkursowe)\n",
    "prediction = base2.predict(X_konkursowe)\n",
    "pd.DataFrame(data=prediction, columns=['Expected']).to_csv('kaggle_prediction.csv', index_label='Id')"
   ],
   "metadata": {
    "collapsed": false,
    "ExecuteTime": {
     "end_time": "2023-06-04T15:23:27.170755800Z",
     "start_time": "2023-06-04T15:23:20.969316300Z"
    }
   }
  }
 ],
 "metadata": {
  "kernelspec": {
   "display_name": "Python 3",
   "language": "python",
   "name": "python3"
  },
  "language_info": {
   "codemirror_mode": {
    "name": "ipython",
    "version": 2
   },
   "file_extension": ".py",
   "mimetype": "text/x-python",
   "name": "python",
   "nbconvert_exporter": "python",
   "pygments_lexer": "ipython2",
   "version": "2.7.6"
  }
 },
 "nbformat": 4,
 "nbformat_minor": 0
}
