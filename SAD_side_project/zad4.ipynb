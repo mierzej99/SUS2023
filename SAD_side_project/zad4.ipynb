{
 "cells": [
  {
   "cell_type": "code",
   "execution_count": 1,
   "metadata": {
    "collapsed": true,
    "ExecuteTime": {
     "end_time": "2023-06-01T15:52:31.717587995Z",
     "start_time": "2023-06-01T15:52:29.248503005Z"
    }
   },
   "outputs": [],
   "source": [
    "import pandas as pd\n",
    "import numpy as np\n",
    "import matplotlib.pyplot as plt\n",
    "from sklearn.model_selection import train_test_split, GridSearchCV\n",
    "from sklearn.ensemble import GradientBoostingRegressor\n",
    "from sklearn.preprocessing import StandardScaler\n",
    "from sklearn.decomposition import PCA\n",
    "from sklearn.pipeline import Pipeline\n",
    "import time, os\n",
    "from sklearn.metrics import mean_squared_error"
   ]
  },
  {
   "cell_type": "markdown",
   "source": [
    "## DANE"
   ],
   "metadata": {
    "collapsed": false
   }
  },
  {
   "cell_type": "code",
   "execution_count": 2,
   "outputs": [],
   "source": [
    "# ładowanie danych treningowych\n",
    "X = pd.read_csv('X_train.csv', header=0)\n",
    "y = pd.read_csv('y_train.csv', header=0)['Expected']"
   ],
   "metadata": {
    "collapsed": false,
    "ExecuteTime": {
     "end_time": "2023-06-01T15:52:42.332325191Z",
     "start_time": "2023-06-01T15:52:31.718004262Z"
    }
   }
  },
  {
   "cell_type": "code",
   "execution_count": 3,
   "outputs": [],
   "source": [
    "# podział danych (X_test i y_test posłużą jako dane walidacyjne)\n",
    "X_train, X_test, y_train, y_test = train_test_split(X, y, test_size=0.1)"
   ],
   "metadata": {
    "collapsed": false,
    "ExecuteTime": {
     "end_time": "2023-06-01T15:52:42.466658903Z",
     "start_time": "2023-06-01T15:52:42.337968729Z"
    }
   }
  },
  {
   "cell_type": "markdown",
   "source": [
    "# BASELINE model"
   ],
   "metadata": {
    "collapsed": false
   }
  },
  {
   "cell_type": "code",
   "execution_count": 4,
   "outputs": [
    {
     "name": "stdout",
     "output_type": "stream",
     "text": [
      "CPU times: user 3min 2s, sys: 16.9 ms, total: 3min 2s\n",
      "Wall time: 3min 2s\n"
     ]
    },
    {
     "data": {
      "text/plain": "0.3972373393951361"
     },
     "execution_count": 4,
     "metadata": {},
     "output_type": "execute_result"
    }
   ],
   "source": [
    "%%time\n",
    "base = GradientBoostingRegressor()\n",
    "base.fit(X_train,y_train)\n",
    "mean_squared_error(y_test, base.predict(X_test))\n",
    "# 0.31999768147616214"
   ],
   "metadata": {
    "collapsed": false,
    "ExecuteTime": {
     "end_time": "2023-06-01T15:55:45.442810938Z",
     "start_time": "2023-06-01T15:52:42.486305508Z"
    }
   }
  },
  {
   "cell_type": "markdown",
   "source": [
    "## Scaling data"
   ],
   "metadata": {
    "collapsed": false
   }
  },
  {
   "cell_type": "code",
   "execution_count": 5,
   "outputs": [
    {
     "name": "stdout",
     "output_type": "stream",
     "text": [
      "CPU times: user 876 ms, sys: 852 ms, total: 1.73 s\n",
      "Wall time: 1.74 s\n"
     ]
    }
   ],
   "source": [
    "%%time\n",
    "sc_X = StandardScaler()\n",
    "sc_X.fit(X_train)\n",
    "X_train = sc_X.transform(X_train)\n",
    "X_test = sc_X.transform(X_test)\n",
    "X = sc_X.transform(X)"
   ],
   "metadata": {
    "collapsed": false,
    "ExecuteTime": {
     "end_time": "2023-06-01T15:22:51.041953904Z",
     "start_time": "2023-06-01T15:22:49.325486545Z"
    }
   }
  },
  {
   "cell_type": "code",
   "execution_count": 6,
   "outputs": [],
   "source": [
    "# %%time\n",
    "# pca = PCA()\n",
    "# pca.fit(X)\n",
    "# pca_data = pca.transform(X)\n",
    "# pca.explained_variance_ratio_ * 100"
   ],
   "metadata": {
    "collapsed": false,
    "ExecuteTime": {
     "end_time": "2023-06-01T15:22:51.048572492Z",
     "start_time": "2023-06-01T15:22:51.044787101Z"
    }
   }
  },
  {
   "cell_type": "markdown",
   "source": [
    "## GradientBoosting"
   ],
   "metadata": {
    "collapsed": false
   }
  },
  {
   "cell_type": "code",
   "execution_count": null,
   "outputs": [
    {
     "name": "stdout",
     "output_type": "stream",
     "text": [
      "Fitting 3 folds for each of 576 candidates, totalling 1728 fits\n",
      "[CV 1/3] END gradientboosting__learning_rate=0.05, gradientboosting__max_depth=3, gradientboosting__max_features=1.0, gradientboosting__min_samples_leaf=1, gradientboosting__min_samples_split=2, gradientboosting__n_estimators=100, gradientboosting__subsample=0.8, pca__n_components=100;, score=-0.604 total time=  17.6s\n",
      "[CV 2/3] END gradientboosting__learning_rate=0.05, gradientboosting__max_depth=3, gradientboosting__max_features=1.0, gradientboosting__min_samples_leaf=1, gradientboosting__min_samples_split=2, gradientboosting__n_estimators=100, gradientboosting__subsample=0.8, pca__n_components=200;, score=-0.603 total time=  32.7s\n",
      "[CV 2/3] END gradientboosting__learning_rate=0.05, gradientboosting__max_depth=3, gradientboosting__max_features=1.0, gradientboosting__min_samples_leaf=1, gradientboosting__min_samples_split=2, gradientboosting__n_estimators=100, gradientboosting__subsample=1.0, pca__n_components=100;, score=-0.600 total time=  19.5s\n",
      "[CV 3/3] END gradientboosting__learning_rate=0.05, gradientboosting__max_depth=3, gradientboosting__max_features=1.0, gradientboosting__min_samples_leaf=1, gradientboosting__min_samples_split=2, gradientboosting__n_estimators=100, gradientboosting__subsample=1.0, pca__n_components=200;, score=-0.632 total time=  37.5s\n",
      "[CV 3/3] END gradientboosting__learning_rate=0.05, gradientboosting__max_depth=3, gradientboosting__max_features=1.0, gradientboosting__min_samples_leaf=1, gradientboosting__min_samples_split=2, gradientboosting__n_estimators=200, gradientboosting__subsample=0.8, pca__n_components=100;, score=-0.625 total time=  27.8s\n",
      "[CV 1/3] END gradientboosting__learning_rate=0.05, gradientboosting__max_depth=3, gradientboosting__max_features=1.0, gradientboosting__min_samples_leaf=1, gradientboosting__min_samples_split=2, gradientboosting__n_estimators=200, gradientboosting__subsample=1.0, pca__n_components=50;, score=-0.597 total time=  17.5s\n",
      "[CV 2/3] END gradientboosting__learning_rate=0.05, gradientboosting__max_depth=3, gradientboosting__max_features=1.0, gradientboosting__min_samples_leaf=1, gradientboosting__min_samples_split=2, gradientboosting__n_estimators=200, gradientboosting__subsample=1.0, pca__n_components=50;, score=-0.596 total time=  17.2s\n",
      "[CV 3/3] END gradientboosting__learning_rate=0.05, gradientboosting__max_depth=3, gradientboosting__max_features=1.0, gradientboosting__min_samples_leaf=1, gradientboosting__min_samples_split=2, gradientboosting__n_estimators=200, gradientboosting__subsample=1.0, pca__n_components=50;, score=-0.625 total time=  17.0s\n",
      "[CV 1/3] END gradientboosting__learning_rate=0.05, gradientboosting__max_depth=3, gradientboosting__max_features=1.0, gradientboosting__min_samples_leaf=1, gradientboosting__min_samples_split=2, gradientboosting__n_estimators=200, gradientboosting__subsample=1.0, pca__n_components=200;, score=-0.602 total time= 1.0min\n",
      "[CV 3/3] END gradientboosting__learning_rate=0.05, gradientboosting__max_depth=3, gradientboosting__max_features=1.0, gradientboosting__min_samples_leaf=1, gradientboosting__min_samples_split=2, gradientboosting__n_estimators=500, gradientboosting__subsample=0.8, pca__n_components=50;, score=-0.622 total time=  26.4s\n",
      "[CV 3/3] END gradientboosting__learning_rate=0.05, gradientboosting__max_depth=3, gradientboosting__max_features=1.0, gradientboosting__min_samples_leaf=1, gradientboosting__min_samples_split=2, gradientboosting__n_estimators=500, gradientboosting__subsample=0.8, pca__n_components=100;, score=-0.628 total time=  50.5s\n",
      "[CV 1/3] END gradientboosting__learning_rate=0.05, gradientboosting__max_depth=3, gradientboosting__max_features=1.0, gradientboosting__min_samples_leaf=1, gradientboosting__min_samples_split=2, gradientboosting__n_estimators=500, gradientboosting__subsample=1.0, pca__n_components=50;, score=-0.594 total time=  34.1s\n",
      "[CV 2/3] END gradientboosting__learning_rate=0.05, gradientboosting__max_depth=3, gradientboosting__max_features=1.0, gradientboosting__min_samples_leaf=1, gradientboosting__min_samples_split=2, gradientboosting__n_estimators=500, gradientboosting__subsample=1.0, pca__n_components=50;, score=-0.594 total time=  33.6s\n",
      "[CV 3/3] END gradientboosting__learning_rate=0.05, gradientboosting__max_depth=3, gradientboosting__max_features=1.0, gradientboosting__min_samples_leaf=1, gradientboosting__min_samples_split=2, gradientboosting__n_estimators=500, gradientboosting__subsample=1.0, pca__n_components=50;, score=-0.622 total time=  34.1s\n",
      "[CV 3/3] END gradientboosting__learning_rate=0.05, gradientboosting__max_depth=3, gradientboosting__max_features=1.0, gradientboosting__min_samples_leaf=1, gradientboosting__min_samples_split=2, gradientboosting__n_estimators=500, gradientboosting__subsample=1.0, pca__n_components=100;, score=-0.634 total time= 1.2min\n",
      "[CV 1/3] END gradientboosting__learning_rate=0.05, gradientboosting__max_depth=3, gradientboosting__max_features=1.0, gradientboosting__min_samples_leaf=1, gradientboosting__min_samples_split=4, gradientboosting__n_estimators=100, gradientboosting__subsample=0.8, pca__n_components=50;, score=-0.602 total time=  10.7s\n",
      "[CV 2/3] END gradientboosting__learning_rate=0.05, gradientboosting__max_depth=3, gradientboosting__max_features=1.0, gradientboosting__min_samples_leaf=1, gradientboosting__min_samples_split=4, gradientboosting__n_estimators=100, gradientboosting__subsample=0.8, pca__n_components=50;, score=-0.595 total time=   9.7s\n",
      "[CV 3/3] END gradientboosting__learning_rate=0.05, gradientboosting__max_depth=3, gradientboosting__max_features=1.0, gradientboosting__min_samples_leaf=1, gradientboosting__min_samples_split=4, gradientboosting__n_estimators=100, gradientboosting__subsample=0.8, pca__n_components=50;, score=-0.621 total time=   9.0s\n",
      "[CV 1/3] END gradientboosting__learning_rate=0.05, gradientboosting__max_depth=3, gradientboosting__max_features=1.0, gradientboosting__min_samples_leaf=1, gradientboosting__min_samples_split=4, gradientboosting__n_estimators=100, gradientboosting__subsample=0.8, pca__n_components=100;, score=-0.604 total time=  17.3s\n",
      "[CV 2/3] END gradientboosting__learning_rate=0.05, gradientboosting__max_depth=3, gradientboosting__max_features=1.0, gradientboosting__min_samples_leaf=1, gradientboosting__min_samples_split=4, gradientboosting__n_estimators=100, gradientboosting__subsample=0.8, pca__n_components=100;, score=-0.602 total time=  22.2s\n",
      "[CV 3/3] END gradientboosting__learning_rate=0.05, gradientboosting__max_depth=3, gradientboosting__max_features=1.0, gradientboosting__min_samples_leaf=1, gradientboosting__min_samples_split=4, gradientboosting__n_estimators=100, gradientboosting__subsample=0.8, pca__n_components=100;, score=-0.623 total time=  18.3s\n",
      "[CV 2/3] END gradientboosting__learning_rate=0.05, gradientboosting__max_depth=3, gradientboosting__max_features=1.0, gradientboosting__min_samples_leaf=1, gradientboosting__min_samples_split=4, gradientboosting__n_estimators=100, gradientboosting__subsample=0.8, pca__n_components=200;, score=-0.599 total time=  45.7s\n",
      "[CV 2/3] END gradientboosting__learning_rate=0.05, gradientboosting__max_depth=3, gradientboosting__max_features=1.0, gradientboosting__min_samples_leaf=1, gradientboosting__min_samples_split=4, gradientboosting__n_estimators=100, gradientboosting__subsample=1.0, pca__n_components=50;, score=-0.594 total time=  14.6s\n",
      "[CV 3/3] END gradientboosting__learning_rate=0.05, gradientboosting__max_depth=3, gradientboosting__max_features=1.0, gradientboosting__min_samples_leaf=1, gradientboosting__min_samples_split=4, gradientboosting__n_estimators=100, gradientboosting__subsample=1.0, pca__n_components=100;, score=-0.626 total time=  28.5s\n",
      "[CV 1/3] END gradientboosting__learning_rate=0.05, gradientboosting__max_depth=3, gradientboosting__max_features=1.0, gradientboosting__min_samples_leaf=1, gradientboosting__min_samples_split=4, gradientboosting__n_estimators=200, gradientboosting__subsample=0.8, pca__n_components=50;, score=-0.597 total time=  17.8s\n",
      "[CV 3/3] END gradientboosting__learning_rate=0.05, gradientboosting__max_depth=3, gradientboosting__max_features=1.0, gradientboosting__min_samples_leaf=1, gradientboosting__min_samples_split=2, gradientboosting__n_estimators=100, gradientboosting__subsample=0.8, pca__n_components=50;, score=-0.623 total time=  10.7s\n",
      "[CV 3/3] END gradientboosting__learning_rate=0.05, gradientboosting__max_depth=3, gradientboosting__max_features=1.0, gradientboosting__min_samples_leaf=1, gradientboosting__min_samples_split=2, gradientboosting__n_estimators=100, gradientboosting__subsample=0.8, pca__n_components=100;, score=-0.628 total time=  16.1s\n",
      "[CV 1/3] END gradientboosting__learning_rate=0.05, gradientboosting__max_depth=3, gradientboosting__max_features=1.0, gradientboosting__min_samples_leaf=1, gradientboosting__min_samples_split=2, gradientboosting__n_estimators=100, gradientboosting__subsample=1.0, pca__n_components=50;, score=-0.601 total time=   9.6s\n",
      "[CV 2/3] END gradientboosting__learning_rate=0.05, gradientboosting__max_depth=3, gradientboosting__max_features=1.0, gradientboosting__min_samples_leaf=1, gradientboosting__min_samples_split=2, gradientboosting__n_estimators=100, gradientboosting__subsample=1.0, pca__n_components=50;, score=-0.593 total time=  10.8s\n",
      "[CV 1/3] END gradientboosting__learning_rate=0.05, gradientboosting__max_depth=3, gradientboosting__max_features=1.0, gradientboosting__min_samples_leaf=1, gradientboosting__min_samples_split=2, gradientboosting__n_estimators=100, gradientboosting__subsample=1.0, pca__n_components=100;, score=-0.607 total time=  18.9s\n",
      "[CV 2/3] END gradientboosting__learning_rate=0.05, gradientboosting__max_depth=3, gradientboosting__max_features=1.0, gradientboosting__min_samples_leaf=1, gradientboosting__min_samples_split=2, gradientboosting__n_estimators=100, gradientboosting__subsample=1.0, pca__n_components=200;, score=-0.599 total time=  37.4s\n",
      "[CV 2/3] END gradientboosting__learning_rate=0.05, gradientboosting__max_depth=3, gradientboosting__max_features=1.0, gradientboosting__min_samples_leaf=1, gradientboosting__min_samples_split=2, gradientboosting__n_estimators=200, gradientboosting__subsample=0.8, pca__n_components=100;, score=-0.594 total time=  29.1s\n",
      "[CV 3/3] END gradientboosting__learning_rate=0.05, gradientboosting__max_depth=3, gradientboosting__max_features=1.0, gradientboosting__min_samples_leaf=1, gradientboosting__min_samples_split=2, gradientboosting__n_estimators=200, gradientboosting__subsample=0.8, pca__n_components=200;, score=-0.629 total time=  52.4s\n",
      "[CV 2/3] END gradientboosting__learning_rate=0.05, gradientboosting__max_depth=3, gradientboosting__max_features=1.0, gradientboosting__min_samples_leaf=1, gradientboosting__min_samples_split=2, gradientboosting__n_estimators=200, gradientboosting__subsample=1.0, pca__n_components=100;, score=-0.595 total time=  32.1s\n",
      "[CV 1/3] END gradientboosting__learning_rate=0.05, gradientboosting__max_depth=3, gradientboosting__max_features=1.0, gradientboosting__min_samples_leaf=1, gradientboosting__min_samples_split=2, gradientboosting__n_estimators=500, gradientboosting__subsample=0.8, pca__n_components=50;, score=-0.596 total time=  26.8s\n",
      "[CV 2/3] END gradientboosting__learning_rate=0.05, gradientboosting__max_depth=3, gradientboosting__max_features=1.0, gradientboosting__min_samples_leaf=1, gradientboosting__min_samples_split=2, gradientboosting__n_estimators=500, gradientboosting__subsample=0.8, pca__n_components=50;, score=-0.592 total time=  26.2s\n",
      "[CV 2/3] END gradientboosting__learning_rate=0.05, gradientboosting__max_depth=3, gradientboosting__max_features=1.0, gradientboosting__min_samples_leaf=1, gradientboosting__min_samples_split=2, gradientboosting__n_estimators=500, gradientboosting__subsample=0.8, pca__n_components=100;, score=-0.592 total time=  55.0s\n",
      "[CV 3/3] END gradientboosting__learning_rate=0.05, gradientboosting__max_depth=3, gradientboosting__max_features=1.0, gradientboosting__min_samples_leaf=1, gradientboosting__min_samples_split=2, gradientboosting__n_estimators=500, gradientboosting__subsample=0.8, pca__n_components=200;, score=-0.631 total time= 1.8min\n",
      "[CV 1/3] END gradientboosting__learning_rate=0.05, gradientboosting__max_depth=3, gradientboosting__max_features=1.0, gradientboosting__min_samples_leaf=1, gradientboosting__min_samples_split=2, gradientboosting__n_estimators=500, gradientboosting__subsample=1.0, pca__n_components=200;, score=-0.602 total time= 2.4min\n",
      "[CV 1/3] END gradientboosting__learning_rate=0.05, gradientboosting__max_depth=3, gradientboosting__max_features=1.0, gradientboosting__min_samples_leaf=1, gradientboosting__min_samples_split=4, gradientboosting__n_estimators=100, gradientboosting__subsample=0.8, pca__n_components=200;, score=-0.610 total time=  42.9s\n",
      "[CV 1/3] END gradientboosting__learning_rate=0.05, gradientboosting__max_depth=3, gradientboosting__max_features=1.0, gradientboosting__min_samples_leaf=1, gradientboosting__min_samples_split=4, gradientboosting__n_estimators=100, gradientboosting__subsample=1.0, pca__n_components=50;, score=-0.601 total time=  13.7s\n",
      "[CV 3/3] END gradientboosting__learning_rate=0.05, gradientboosting__max_depth=3, gradientboosting__max_features=1.0, gradientboosting__min_samples_leaf=1, gradientboosting__min_samples_split=4, gradientboosting__n_estimators=100, gradientboosting__subsample=1.0, pca__n_components=50;, score=-0.620 total time=  12.8s\n",
      "[CV 2/3] END gradientboosting__learning_rate=0.05, gradientboosting__max_depth=3, gradientboosting__max_features=1.0, gradientboosting__min_samples_leaf=1, gradientboosting__min_samples_split=4, gradientboosting__n_estimators=100, gradientboosting__subsample=1.0, pca__n_components=100;, score=-0.603 total time=  28.0s\n",
      "[CV 3/3] END gradientboosting__learning_rate=0.05, gradientboosting__max_depth=3, gradientboosting__max_features=1.0, gradientboosting__min_samples_leaf=1, gradientboosting__min_samples_split=4, gradientboosting__n_estimators=100, gradientboosting__subsample=1.0, pca__n_components=200;, score=-0.629 total time=  41.0s\n",
      "[CV 3/3] END gradientboosting__learning_rate=0.05, gradientboosting__max_depth=3, gradientboosting__max_features=1.0, gradientboosting__min_samples_leaf=1, gradientboosting__min_samples_split=4, gradientboosting__n_estimators=200, gradientboosting__subsample=0.8, pca__n_components=100;, score=-0.624 total time=  29.7s\n",
      "[CV 1/3] END gradientboosting__learning_rate=0.05, gradientboosting__max_depth=3, gradientboosting__max_features=1.0, gradientboosting__min_samples_leaf=1, gradientboosting__min_samples_split=4, gradientboosting__n_estimators=200, gradientboosting__subsample=1.0, pca__n_components=50;, score=-0.603 total time=  21.5s\n",
      "[CV 2/3] END gradientboosting__learning_rate=0.05, gradientboosting__max_depth=3, gradientboosting__max_features=1.0, gradientboosting__min_samples_leaf=1, gradientboosting__min_samples_split=4, gradientboosting__n_estimators=200, gradientboosting__subsample=1.0, pca__n_components=50;, score=-0.593 total time=  21.0s\n",
      "[CV 1/3] END gradientboosting__learning_rate=0.05, gradientboosting__max_depth=3, gradientboosting__max_features=1.0, gradientboosting__min_samples_leaf=1, gradientboosting__min_samples_split=4, gradientboosting__n_estimators=200, gradientboosting__subsample=1.0, pca__n_components=100;, score=-0.604 total time=  31.5s\n",
      "[CV 2/3] END gradientboosting__learning_rate=0.05, gradientboosting__max_depth=3, gradientboosting__max_features=1.0, gradientboosting__min_samples_leaf=1, gradientboosting__min_samples_split=4, gradientboosting__n_estimators=200, gradientboosting__subsample=1.0, pca__n_components=200;, score=-0.600 total time= 1.1min\n",
      "[CV 1/3] END gradientboosting__learning_rate=0.05, gradientboosting__max_depth=3, gradientboosting__max_features=1.0, gradientboosting__min_samples_leaf=1, gradientboosting__min_samples_split=4, gradientboosting__n_estimators=500, gradientboosting__subsample=0.8, pca__n_components=100;, score=-0.598 total time=  55.7s\n",
      "[CV 2/3] END gradientboosting__learning_rate=0.05, gradientboosting__max_depth=3, gradientboosting__max_features=1.0, gradientboosting__min_samples_leaf=1, gradientboosting__min_samples_split=2, gradientboosting__n_estimators=100, gradientboosting__subsample=0.8, pca__n_components=50;, score=-0.596 total time=  10.8s\n",
      "[CV 1/3] END gradientboosting__learning_rate=0.05, gradientboosting__max_depth=3, gradientboosting__max_features=1.0, gradientboosting__min_samples_leaf=1, gradientboosting__min_samples_split=2, gradientboosting__n_estimators=100, gradientboosting__subsample=0.8, pca__n_components=200;, score=-0.605 total time=  32.6s\n",
      "[CV 3/3] END gradientboosting__learning_rate=0.05, gradientboosting__max_depth=3, gradientboosting__max_features=1.0, gradientboosting__min_samples_leaf=1, gradientboosting__min_samples_split=2, gradientboosting__n_estimators=100, gradientboosting__subsample=1.0, pca__n_components=50;, score=-0.622 total time=  11.2s\n",
      "[CV 3/3] END gradientboosting__learning_rate=0.05, gradientboosting__max_depth=3, gradientboosting__max_features=1.0, gradientboosting__min_samples_leaf=1, gradientboosting__min_samples_split=2, gradientboosting__n_estimators=100, gradientboosting__subsample=1.0, pca__n_components=100;, score=-0.626 total time=  19.2s\n",
      "[CV 1/3] END gradientboosting__learning_rate=0.05, gradientboosting__max_depth=3, gradientboosting__max_features=1.0, gradientboosting__min_samples_leaf=1, gradientboosting__min_samples_split=2, gradientboosting__n_estimators=200, gradientboosting__subsample=0.8, pca__n_components=50;, score=-0.598 total time=  15.1s\n",
      "[CV 2/3] END gradientboosting__learning_rate=0.05, gradientboosting__max_depth=3, gradientboosting__max_features=1.0, gradientboosting__min_samples_leaf=1, gradientboosting__min_samples_split=2, gradientboosting__n_estimators=200, gradientboosting__subsample=0.8, pca__n_components=50;, score=-0.594 total time=  12.9s\n",
      "[CV 1/3] END gradientboosting__learning_rate=0.05, gradientboosting__max_depth=3, gradientboosting__max_features=1.0, gradientboosting__min_samples_leaf=1, gradientboosting__min_samples_split=2, gradientboosting__n_estimators=200, gradientboosting__subsample=0.8, pca__n_components=100;, score=-0.602 total time=  28.8s\n",
      "[CV 2/3] END gradientboosting__learning_rate=0.05, gradientboosting__max_depth=3, gradientboosting__max_features=1.0, gradientboosting__min_samples_leaf=1, gradientboosting__min_samples_split=2, gradientboosting__n_estimators=200, gradientboosting__subsample=0.8, pca__n_components=200;, score=-0.599 total time=  54.8s\n",
      "[CV 3/3] END gradientboosting__learning_rate=0.05, gradientboosting__max_depth=3, gradientboosting__max_features=1.0, gradientboosting__min_samples_leaf=1, gradientboosting__min_samples_split=2, gradientboosting__n_estimators=200, gradientboosting__subsample=1.0, pca__n_components=100;, score=-0.625 total time=  31.7s\n",
      "[CV 3/3] END gradientboosting__learning_rate=0.05, gradientboosting__max_depth=3, gradientboosting__max_features=1.0, gradientboosting__min_samples_leaf=1, gradientboosting__min_samples_split=2, gradientboosting__n_estimators=200, gradientboosting__subsample=1.0, pca__n_components=200;, score=-0.628 total time= 1.1min\n",
      "[CV 1/3] END gradientboosting__learning_rate=0.05, gradientboosting__max_depth=3, gradientboosting__max_features=1.0, gradientboosting__min_samples_leaf=1, gradientboosting__min_samples_split=2, gradientboosting__n_estimators=500, gradientboosting__subsample=0.8, pca__n_components=200;, score=-0.603 total time= 1.8min\n",
      "[CV 1/3] END gradientboosting__learning_rate=0.05, gradientboosting__max_depth=3, gradientboosting__max_features=1.0, gradientboosting__min_samples_leaf=1, gradientboosting__min_samples_split=2, gradientboosting__n_estimators=500, gradientboosting__subsample=1.0, pca__n_components=100;, score=-0.600 total time= 1.1min\n",
      "[CV 2/3] END gradientboosting__learning_rate=0.05, gradientboosting__max_depth=3, gradientboosting__max_features=1.0, gradientboosting__min_samples_leaf=1, gradientboosting__min_samples_split=2, gradientboosting__n_estimators=500, gradientboosting__subsample=1.0, pca__n_components=200;, score=-0.600 total time= 2.6min\n",
      "[CV 3/3] END gradientboosting__learning_rate=0.05, gradientboosting__max_depth=3, gradientboosting__max_features=1.0, gradientboosting__min_samples_leaf=1, gradientboosting__min_samples_split=4, gradientboosting__n_estimators=100, gradientboosting__subsample=0.8, pca__n_components=200;, score=-0.631 total time=  44.1s\n",
      "[CV 1/3] END gradientboosting__learning_rate=0.05, gradientboosting__max_depth=3, gradientboosting__max_features=1.0, gradientboosting__min_samples_leaf=1, gradientboosting__min_samples_split=4, gradientboosting__n_estimators=100, gradientboosting__subsample=1.0, pca__n_components=200;, score=-0.608 total time=  42.8s\n",
      "[CV 3/3] END gradientboosting__learning_rate=0.05, gradientboosting__max_depth=3, gradientboosting__max_features=1.0, gradientboosting__min_samples_leaf=1, gradientboosting__min_samples_split=4, gradientboosting__n_estimators=200, gradientboosting__subsample=0.8, pca__n_components=50;, score=-0.627 total time=  14.3s\n",
      "[CV 1/3] END gradientboosting__learning_rate=0.05, gradientboosting__max_depth=3, gradientboosting__max_features=1.0, gradientboosting__min_samples_leaf=1, gradientboosting__min_samples_split=4, gradientboosting__n_estimators=200, gradientboosting__subsample=0.8, pca__n_components=200;, score=-0.603 total time= 1.1min\n",
      "[CV 3/3] END gradientboosting__learning_rate=0.05, gradientboosting__max_depth=3, gradientboosting__max_features=1.0, gradientboosting__min_samples_leaf=1, gradientboosting__min_samples_split=4, gradientboosting__n_estimators=200, gradientboosting__subsample=1.0, pca__n_components=50;, score=-0.622 total time=  19.5s\n",
      "[CV 3/3] END gradientboosting__learning_rate=0.05, gradientboosting__max_depth=3, gradientboosting__max_features=1.0, gradientboosting__min_samples_leaf=1, gradientboosting__min_samples_split=4, gradientboosting__n_estimators=200, gradientboosting__subsample=1.0, pca__n_components=100;, score=-0.622 total time=  32.0s\n",
      "[CV 1/3] END gradientboosting__learning_rate=0.05, gradientboosting__max_depth=3, gradientboosting__max_features=1.0, gradientboosting__min_samples_leaf=1, gradientboosting__min_samples_split=4, gradientboosting__n_estimators=500, gradientboosting__subsample=0.8, pca__n_components=50;, score=-0.591 total time=  31.8s\n",
      "[CV 2/3] END gradientboosting__learning_rate=0.05, gradientboosting__max_depth=3, gradientboosting__max_features=1.0, gradientboosting__min_samples_leaf=1, gradientboosting__min_samples_split=4, gradientboosting__n_estimators=500, gradientboosting__subsample=0.8, pca__n_components=50;, score=-0.591 total time=  28.3s\n",
      "[CV 2/3] END gradientboosting__learning_rate=0.05, gradientboosting__max_depth=3, gradientboosting__max_features=1.0, gradientboosting__min_samples_leaf=1, gradientboosting__min_samples_split=4, gradientboosting__n_estimators=500, gradientboosting__subsample=0.8, pca__n_components=100;, score=-0.597 total time=  57.9s\n",
      "[CV 3/3] END gradientboosting__learning_rate=0.05, gradientboosting__max_depth=3, gradientboosting__max_features=1.0, gradientboosting__min_samples_leaf=1, gradientboosting__min_samples_split=4, gradientboosting__n_estimators=500, gradientboosting__subsample=0.8, pca__n_components=200;, score=-0.641 total time= 2.0min\n",
      "[CV 1/3] END gradientboosting__learning_rate=0.05, gradientboosting__max_depth=3, gradientboosting__max_features=1.0, gradientboosting__min_samples_leaf=1, gradientboosting__min_samples_split=4, gradientboosting__n_estimators=500, gradientboosting__subsample=1.0, pca__n_components=200;, score=-0.599 total time= 2.5min\n",
      "[CV 1/3] END gradientboosting__learning_rate=0.05, gradientboosting__max_depth=3, gradientboosting__max_features=1.0, gradientboosting__min_samples_leaf=2, gradientboosting__min_samples_split=2, gradientboosting__n_estimators=100, gradientboosting__subsample=0.8, pca__n_components=200;, score=-0.610 total time=  33.8s\n",
      "[CV 1/3] END gradientboosting__learning_rate=0.05, gradientboosting__max_depth=3, gradientboosting__max_features=1.0, gradientboosting__min_samples_leaf=1, gradientboosting__min_samples_split=2, gradientboosting__n_estimators=100, gradientboosting__subsample=0.8, pca__n_components=50;, score=-0.598 total time=  10.0s\n",
      "[CV 2/3] END gradientboosting__learning_rate=0.05, gradientboosting__max_depth=3, gradientboosting__max_features=1.0, gradientboosting__min_samples_leaf=1, gradientboosting__min_samples_split=2, gradientboosting__n_estimators=100, gradientboosting__subsample=0.8, pca__n_components=100;, score=-0.598 total time=  15.9s\n",
      "[CV 3/3] END gradientboosting__learning_rate=0.05, gradientboosting__max_depth=3, gradientboosting__max_features=1.0, gradientboosting__min_samples_leaf=1, gradientboosting__min_samples_split=2, gradientboosting__n_estimators=100, gradientboosting__subsample=0.8, pca__n_components=200;, score=-0.632 total time=  34.3s\n",
      "[CV 1/3] END gradientboosting__learning_rate=0.05, gradientboosting__max_depth=3, gradientboosting__max_features=1.0, gradientboosting__min_samples_leaf=1, gradientboosting__min_samples_split=2, gradientboosting__n_estimators=100, gradientboosting__subsample=1.0, pca__n_components=200;, score=-0.606 total time=  39.8s\n",
      "[CV 3/3] END gradientboosting__learning_rate=0.05, gradientboosting__max_depth=3, gradientboosting__max_features=1.0, gradientboosting__min_samples_leaf=1, gradientboosting__min_samples_split=2, gradientboosting__n_estimators=200, gradientboosting__subsample=0.8, pca__n_components=50;, score=-0.617 total time=  13.4s\n",
      "[CV 1/3] END gradientboosting__learning_rate=0.05, gradientboosting__max_depth=3, gradientboosting__max_features=1.0, gradientboosting__min_samples_leaf=1, gradientboosting__min_samples_split=2, gradientboosting__n_estimators=200, gradientboosting__subsample=0.8, pca__n_components=200;, score=-0.600 total time=  56.9s\n",
      "[CV 1/3] END gradientboosting__learning_rate=0.05, gradientboosting__max_depth=3, gradientboosting__max_features=1.0, gradientboosting__min_samples_leaf=1, gradientboosting__min_samples_split=2, gradientboosting__n_estimators=200, gradientboosting__subsample=1.0, pca__n_components=100;, score=-0.599 total time=  31.8s\n",
      "[CV 2/3] END gradientboosting__learning_rate=0.05, gradientboosting__max_depth=3, gradientboosting__max_features=1.0, gradientboosting__min_samples_leaf=1, gradientboosting__min_samples_split=2, gradientboosting__n_estimators=200, gradientboosting__subsample=1.0, pca__n_components=200;, score=-0.597 total time= 1.1min\n",
      "[CV 1/3] END gradientboosting__learning_rate=0.05, gradientboosting__max_depth=3, gradientboosting__max_features=1.0, gradientboosting__min_samples_leaf=1, gradientboosting__min_samples_split=2, gradientboosting__n_estimators=500, gradientboosting__subsample=0.8, pca__n_components=100;, score=-0.599 total time=  54.0s\n",
      "[CV 2/3] END gradientboosting__learning_rate=0.05, gradientboosting__max_depth=3, gradientboosting__max_features=1.0, gradientboosting__min_samples_leaf=1, gradientboosting__min_samples_split=2, gradientboosting__n_estimators=500, gradientboosting__subsample=0.8, pca__n_components=200;, score=-0.594 total time= 1.7min\n",
      "[CV 2/3] END gradientboosting__learning_rate=0.05, gradientboosting__max_depth=3, gradientboosting__max_features=1.0, gradientboosting__min_samples_leaf=1, gradientboosting__min_samples_split=2, gradientboosting__n_estimators=500, gradientboosting__subsample=1.0, pca__n_components=100;, score=-0.598 total time= 1.1min\n",
      "[CV 3/3] END gradientboosting__learning_rate=0.05, gradientboosting__max_depth=3, gradientboosting__max_features=1.0, gradientboosting__min_samples_leaf=1, gradientboosting__min_samples_split=2, gradientboosting__n_estimators=500, gradientboosting__subsample=1.0, pca__n_components=200;, score=-0.640 total time= 2.6min\n",
      "[CV 1/3] END gradientboosting__learning_rate=0.05, gradientboosting__max_depth=3, gradientboosting__max_features=1.0, gradientboosting__min_samples_leaf=1, gradientboosting__min_samples_split=4, gradientboosting__n_estimators=100, gradientboosting__subsample=1.0, pca__n_components=100;, score=-0.605 total time=  23.9s\n",
      "[CV 2/3] END gradientboosting__learning_rate=0.05, gradientboosting__max_depth=3, gradientboosting__max_features=1.0, gradientboosting__min_samples_leaf=1, gradientboosting__min_samples_split=4, gradientboosting__n_estimators=100, gradientboosting__subsample=1.0, pca__n_components=200;, score=-0.598 total time=  40.2s\n",
      "[CV 2/3] END gradientboosting__learning_rate=0.05, gradientboosting__max_depth=3, gradientboosting__max_features=1.0, gradientboosting__min_samples_leaf=1, gradientboosting__min_samples_split=4, gradientboosting__n_estimators=200, gradientboosting__subsample=0.8, pca__n_components=100;, score=-0.597 total time=  28.3s\n",
      "[CV 3/3] END gradientboosting__learning_rate=0.05, gradientboosting__max_depth=3, gradientboosting__max_features=1.0, gradientboosting__min_samples_leaf=1, gradientboosting__min_samples_split=4, gradientboosting__n_estimators=200, gradientboosting__subsample=0.8, pca__n_components=200;, score=-0.628 total time= 1.1min\n",
      "[CV 1/3] END gradientboosting__learning_rate=0.05, gradientboosting__max_depth=3, gradientboosting__max_features=1.0, gradientboosting__min_samples_leaf=1, gradientboosting__min_samples_split=4, gradientboosting__n_estimators=200, gradientboosting__subsample=1.0, pca__n_components=200;, score=-0.602 total time= 1.1min\n",
      "[CV 3/3] END gradientboosting__learning_rate=0.05, gradientboosting__max_depth=3, gradientboosting__max_features=1.0, gradientboosting__min_samples_leaf=1, gradientboosting__min_samples_split=4, gradientboosting__n_estimators=500, gradientboosting__subsample=0.8, pca__n_components=50;, score=-0.628 total time=  29.8s\n",
      "[CV 3/3] END gradientboosting__learning_rate=0.05, gradientboosting__max_depth=3, gradientboosting__max_features=1.0, gradientboosting__min_samples_leaf=1, gradientboosting__min_samples_split=4, gradientboosting__n_estimators=500, gradientboosting__subsample=0.8, pca__n_components=100;, score=-0.627 total time=  59.7s\n",
      "[CV 1/3] END gradientboosting__learning_rate=0.05, gradientboosting__max_depth=3, gradientboosting__max_features=1.0, gradientboosting__min_samples_leaf=1, gradientboosting__min_samples_split=4, gradientboosting__n_estimators=500, gradientboosting__subsample=1.0, pca__n_components=50;, score=-0.590 total time=  40.9s\n",
      "[CV 2/3] END gradientboosting__learning_rate=0.05, gradientboosting__max_depth=3, gradientboosting__max_features=1.0, gradientboosting__min_samples_leaf=1, gradientboosting__min_samples_split=4, gradientboosting__n_estimators=500, gradientboosting__subsample=1.0, pca__n_components=50;, score=-0.595 total time=  37.1s\n",
      "[CV 1/3] END gradientboosting__learning_rate=0.05, gradientboosting__max_depth=3, gradientboosting__max_features=1.0, gradientboosting__min_samples_leaf=1, gradientboosting__min_samples_split=4, gradientboosting__n_estimators=500, gradientboosting__subsample=1.0, pca__n_components=100;, score=-0.599 total time= 1.2min\n",
      "[CV 2/3] END gradientboosting__learning_rate=0.05, gradientboosting__max_depth=3, gradientboosting__max_features=1.0, gradientboosting__min_samples_leaf=1, gradientboosting__min_samples_split=4, gradientboosting__n_estimators=500, gradientboosting__subsample=1.0, pca__n_components=200;, score=-0.597 total time= 2.4min\n",
      "[CV 1/3] END gradientboosting__learning_rate=0.05, gradientboosting__max_depth=3, gradientboosting__max_features=1.0, gradientboosting__min_samples_leaf=2, gradientboosting__min_samples_split=2, gradientboosting__n_estimators=100, gradientboosting__subsample=1.0, pca__n_components=50;, score=-0.602 total time=  10.8s\n",
      "[CV 3/3] END gradientboosting__learning_rate=0.05, gradientboosting__max_depth=3, gradientboosting__max_features=1.0, gradientboosting__min_samples_leaf=2, gradientboosting__min_samples_split=2, gradientboosting__n_estimators=100, gradientboosting__subsample=1.0, pca__n_components=50;, score=-0.623 total time=  11.1s\n"
     ]
    }
   ],
   "source": [
    "%%time\n",
    "#siatka parametrów do modelu\n",
    "parameters = {\n",
    "    'pca__n_components': [50, 100, 200, None],\n",
    "    'gradientboosting__learning_rate': [0.05, 0.1],\n",
    "    'gradientboosting__n_estimators': [100, 200, 500],\n",
    "    'gradientboosting__subsample': [0.8, 1.0],\n",
    "    'gradientboosting__max_depth': [3, 5],\n",
    "    'gradientboosting__min_samples_split': [2, 4],\n",
    "    'gradientboosting__min_samples_leaf': [1, 2],\n",
    "    'gradientboosting__max_features': [1.0, 'sqrt'],\n",
    "}\n",
    "# model\n",
    "pipeline = Pipeline([\n",
    "    ('pca', PCA()),\n",
    "    ('gradientboosting', GradientBoostingRegressor())\n",
    "])\n",
    "\n",
    "# cross walidacja\n",
    "start = time.time()\n",
    "reg = GridSearchCV(estimator=pipeline, param_grid=parameters, scoring='neg_root_mean_squared_error',\n",
    "                   n_jobs=os.cpu_count(), verbose=4, cv=3)\n",
    "reg.fit(X_train, y_train)"
   ],
   "metadata": {
    "collapsed": false,
    "ExecuteTime": {
     "start_time": "2023-06-01T15:22:51.049990661Z"
    }
   }
  },
  {
   "cell_type": "code",
   "execution_count": null,
   "outputs": [],
   "source": [
    "mean_squared_error(y_test, reg.predict(X_test))"
   ],
   "metadata": {
    "collapsed": false
   }
  },
  {
   "cell_type": "code",
   "execution_count": 12,
   "outputs": [],
   "source": [
    "X_konkursowe = pd.read_csv('X_test.csv', header=0)\n",
    "X_konkursowe = sc_X.transform(X_konkursowe)\n",
    "prediction = base.predict(X_konkursowe)\n",
    "pd.DataFrame(data=prediction, columns=['Expected']).to_csv('kaggle_predicion.csv', index_label='Id')"
   ],
   "metadata": {
    "collapsed": false,
    "ExecuteTime": {
     "end_time": "2023-06-01T16:01:03.067420360Z",
     "start_time": "2023-06-01T16:01:00.666549292Z"
    }
   }
  }
 ],
 "metadata": {
  "kernelspec": {
   "display_name": "Python 3",
   "language": "python",
   "name": "python3"
  },
  "language_info": {
   "codemirror_mode": {
    "name": "ipython",
    "version": 2
   },
   "file_extension": ".py",
   "mimetype": "text/x-python",
   "name": "python",
   "nbconvert_exporter": "python",
   "pygments_lexer": "ipython2",
   "version": "2.7.6"
  }
 },
 "nbformat": 4,
 "nbformat_minor": 0
}
