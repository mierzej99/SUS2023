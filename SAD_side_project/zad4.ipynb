{
 "cells": [
  {
   "cell_type": "code",
   "execution_count": 1,
   "metadata": {
    "collapsed": true,
    "ExecuteTime": {
     "end_time": "2023-05-31T17:06:56.610149100Z",
     "start_time": "2023-05-31T17:06:54.123252600Z"
    }
   },
   "outputs": [],
   "source": [
    "import pandas as pd\n",
    "import numpy as np\n",
    "import matplotlib.pyplot as plt\n",
    "from sklearn.model_selection import train_test_split, GridSearchCV\n",
    "from sklearn.ensemble import GradientBoostingRegressor\n",
    "from sklearn.preprocessing import StandardScaler\n",
    "from sklearn.decomposition import PCA\n",
    "from sklearn.pipeline import Pipeline\n",
    "import time, os\n",
    "from sklearn.metrics import mean_squared_error"
   ]
  },
  {
   "cell_type": "markdown",
   "source": [
    "## DANE"
   ],
   "metadata": {
    "collapsed": false
   }
  },
  {
   "cell_type": "code",
   "execution_count": 2,
   "outputs": [],
   "source": [
    "# ładowanie danych treningowych\n",
    "X = pd.read_csv('X_train.csv', header=0)\n",
    "y = pd.read_csv('y_train.csv', header=0)['Expected']"
   ],
   "metadata": {
    "collapsed": false,
    "ExecuteTime": {
     "end_time": "2023-05-31T17:07:12.175565700Z",
     "start_time": "2023-05-31T17:06:56.614155200Z"
    }
   }
  },
  {
   "cell_type": "code",
   "execution_count": 3,
   "outputs": [],
   "source": [
    "# podział danych (X_test i y_test posłużą jako dane walidacyjne)\n",
    "X_train, X_test, y_train, y_test = train_test_split(X, y, test_size=0.1)"
   ],
   "metadata": {
    "collapsed": false,
    "ExecuteTime": {
     "end_time": "2023-05-31T17:07:12.375988300Z",
     "start_time": "2023-05-31T17:07:12.180563300Z"
    }
   }
  },
  {
   "cell_type": "markdown",
   "source": [
    "# BASELINE model"
   ],
   "metadata": {
    "collapsed": false
   }
  },
  {
   "cell_type": "code",
   "execution_count": 4,
   "outputs": [],
   "source": [
    "# %%time\n",
    "# base = GradientBoostingRegressor()\n",
    "# base.fit(X_train,y_train)\n",
    "# mean_squared_error(y_test, base.predict(X_test))\n",
    "# 0.31999768147616214"
   ],
   "metadata": {
    "collapsed": false,
    "ExecuteTime": {
     "end_time": "2023-05-31T17:07:12.385245700Z",
     "start_time": "2023-05-31T17:07:12.381249300Z"
    }
   }
  },
  {
   "cell_type": "markdown",
   "source": [
    "## Scaling data"
   ],
   "metadata": {
    "collapsed": false
   }
  },
  {
   "cell_type": "code",
   "execution_count": 5,
   "outputs": [
    {
     "name": "stdout",
     "output_type": "stream",
     "text": [
      "CPU times: total: 1.45 s\n",
      "Wall time: 1.48 s\n"
     ]
    }
   ],
   "source": [
    "%%time\n",
    "sc_X = StandardScaler()\n",
    "sc_X.fit(X_train)\n",
    "X_train = sc_X.transform(X_train)\n",
    "X_test = sc_X.transform(X_test)\n",
    "X = sc_X.transform(X)"
   ],
   "metadata": {
    "collapsed": false,
    "ExecuteTime": {
     "end_time": "2023-05-31T17:07:13.881709300Z",
     "start_time": "2023-05-31T17:07:12.391245400Z"
    }
   }
  },
  {
   "cell_type": "code",
   "execution_count": 6,
   "outputs": [],
   "source": [
    "# %%time\n",
    "# pca = PCA()\n",
    "# pca.fit(X)\n",
    "# pca_data = pca.transform(X)\n",
    "# pca.explained_variance_ratio_ * 100"
   ],
   "metadata": {
    "collapsed": false,
    "ExecuteTime": {
     "end_time": "2023-05-31T17:07:13.891705800Z",
     "start_time": "2023-05-31T17:07:13.885701100Z"
    }
   }
  },
  {
   "cell_type": "markdown",
   "source": [
    "## GradientBoosting"
   ],
   "metadata": {
    "collapsed": false
   }
  },
  {
   "cell_type": "code",
   "execution_count": null,
   "outputs": [
    {
     "name": "stdout",
     "output_type": "stream",
     "text": [
      "Fitting 3 folds for each of 288 candidates, totalling 864 fits\n"
     ]
    }
   ],
   "source": [
    "%%time\n",
    "#siatka parametrów do modelu\n",
    "parameters = {\n",
    "    'pca__n_components': [50, 100, 200],\n",
    "    'gradientboosting__learning_rate': [0.05, 0.1],\n",
    "    'gradientboosting__n_estimators': [100, 200, 500],\n",
    "    'gradientboosting__subsample': [0.8, 1.0],\n",
    "    'gradientboosting__max_depth': [3, 5],\n",
    "    'gradientboosting__min_samples_split': [2, 4],\n",
    "    'gradientboosting__min_samples_leaf': [1, 2],\n",
    "    'gradientboosting__max_features': ['auto'],\n",
    "}\n",
    "# model\n",
    "pipeline = Pipeline([\n",
    "    ('pca', PCA()),\n",
    "    ('gradientboosting', GradientBoostingRegressor())\n",
    "])\n",
    "\n",
    "# cross walidacja\n",
    "start = time.time()\n",
    "reg = GridSearchCV(estimator=pipeline, param_grid=parameters, scoring='neg_root_mean_squared_error',\n",
    "                   n_jobs=os.cpu_count(), verbose=4, cv=3)\n",
    "reg.fit(X_train, y_train)"
   ],
   "metadata": {
    "collapsed": false,
    "is_executing": true,
    "ExecuteTime": {
     "start_time": "2023-05-31T17:07:13.894699200Z"
    }
   }
  },
  {
   "cell_type": "code",
   "execution_count": null,
   "outputs": [],
   "source": [
    "reg.cv_results_"
   ],
   "metadata": {
    "collapsed": false,
    "is_executing": true
   }
  }
 ],
 "metadata": {
  "kernelspec": {
   "display_name": "Python 3",
   "language": "python",
   "name": "python3"
  },
  "language_info": {
   "codemirror_mode": {
    "name": "ipython",
    "version": 2
   },
   "file_extension": ".py",
   "mimetype": "text/x-python",
   "name": "python",
   "nbconvert_exporter": "python",
   "pygments_lexer": "ipython2",
   "version": "2.7.6"
  }
 },
 "nbformat": 4,
 "nbformat_minor": 0
}
