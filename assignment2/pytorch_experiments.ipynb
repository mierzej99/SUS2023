{
 "cells": [
  {
   "cell_type": "code",
   "execution_count": 1,
   "outputs": [],
   "source": [
    "import data_functions, pytorch_classes\n",
    "import torch\n",
    "from torchvision.transforms import transforms\n",
    "from tqdm import tqdm\n",
    "import numpy as np\n",
    "from sklearn.model_selection import train_test_split\n",
    "torch.set_num_threads(4)"
   ],
   "metadata": {
    "collapsed": false,
    "ExecuteTime": {
     "end_time": "2023-05-27T13:36:15.110618078Z",
     "start_time": "2023-05-27T13:36:11.395142679Z"
    }
   }
  },
  {
   "cell_type": "markdown",
   "source": [
    "# Training ConvNet"
   ],
   "metadata": {
    "collapsed": false
   }
  },
  {
   "cell_type": "code",
   "execution_count": 2,
   "outputs": [],
   "source": [
    "# creating lists of paths to photos and encodings\n",
    "input_list, enc_list = data_functions.list_of_paths('data/train/train.csv')\n",
    "# creating paris of phots and encodings\n",
    "# 1 - it is encoding of this photo, 0 - it is NOT encoding of this photo\n",
    "pairs, labels = data_functions.create_list_of_pairs_and_labels(input_list, enc_list, 1)\n",
    "\n",
    "#traintest split\n",
    "pairs_train, pairs_test, labels_train, labels_test = train_test_split(pairs, labels, test_size=0.95)\n",
    "\n",
    "train_dataset = pytorch_classes.ImageDataset(pairs=pairs_train, labels=labels_train, transform=transforms.ToTensor())\n",
    "test_dataset = pytorch_classes.ImageDataset(pairs=pairs_test, labels=labels_test, transform=transforms.ToTensor())"
   ],
   "metadata": {
    "collapsed": false,
    "ExecuteTime": {
     "end_time": "2023-05-27T13:36:22.999022104Z",
     "start_time": "2023-05-27T13:36:15.113076528Z"
    }
   }
  },
  {
   "cell_type": "code",
   "execution_count": null,
   "outputs": [
    {
     "name": "stderr",
     "output_type": "stream",
     "text": [
      "100%|██████████| 30/30 [10:03<00:00, 20.10s/it]\n",
      "  8%|▊         | 200/2375 [00:32<05:26,  6.66it/s]"
     ]
    }
   ],
   "source": [
    "model = pytorch_classes.training(num_epochs=30, learning_rate=0.01, train_dataset=train_dataset, batch_size=8)\n",
    "print(pytorch_classes.test_acc(model, test_dataset))"
   ],
   "metadata": {
    "collapsed": false,
    "is_executing": true,
    "ExecuteTime": {
     "start_time": "2023-05-27T13:36:23.003352104Z"
    }
   }
  },
  {
   "cell_type": "markdown",
   "source": [
    "# Generating Predictions"
   ],
   "metadata": {
    "collapsed": false
   }
  },
  {
   "cell_type": "code",
   "execution_count": null,
   "outputs": [],
   "source": [
    "# creating lists of paths to photos and encodings\n",
    "input_list_test, enc_list_test = data_functions.list_of_paths('data/test/test.csv')\n",
    "# creating paris of phots and encodings (0 - photos in pairs is not the same, 1- photo and encoding are the same picture)\n",
    "pairs_test, labels_test = data_functions.create_list_of_pairs_and_labels(input_list_test, enc_list_test, 0)\n",
    "\n",
    "test_dataset = pytorch_classes.ImageDataset(pairs=pairs_test, labels=labels_test, transform=transforms.ToTensor())\n",
    "test_DL = torch.utils.data.DataLoader(test_dataset, batch_size=8)"
   ],
   "metadata": {
    "collapsed": false,
    "is_executing": true
   }
  },
  {
   "cell_type": "code",
   "execution_count": null,
   "outputs": [],
   "source": [
    "preds = []\n",
    "for imgs, encs, _ in tqdm(test_DL):\n",
    "    with torch.no_grad():\n",
    "        pred = (model(imgs, encs)[:,0] >= 0.5).int()\n",
    "    preds.append(pred.numpy())\n",
    "preds = np.concatenate(preds)"
   ],
   "metadata": {
    "collapsed": false,
    "is_executing": true
   }
  },
  {
   "cell_type": "code",
   "execution_count": null,
   "outputs": [],
   "source": [
    "np.savetxt('test_predictions.csv', preds, fmt='%i')"
   ],
   "metadata": {
    "collapsed": false,
    "is_executing": true
   }
  }
 ],
 "metadata": {
  "kernelspec": {
   "display_name": "Python 3",
   "language": "python",
   "name": "python3"
  },
  "language_info": {
   "codemirror_mode": {
    "name": "ipython",
    "version": 2
   },
   "file_extension": ".py",
   "mimetype": "text/x-python",
   "name": "python",
   "nbconvert_exporter": "python",
   "pygments_lexer": "ipython2",
   "version": "2.7.6"
  }
 },
 "nbformat": 4,
 "nbformat_minor": 0
}
