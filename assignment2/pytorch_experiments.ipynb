{
 "cells": [
  {
   "cell_type": "code",
   "execution_count": 7,
   "metadata": {
    "collapsed": true,
    "ExecuteTime": {
     "end_time": "2023-05-21T11:44:14.148170522Z",
     "start_time": "2023-05-21T11:44:14.032734457Z"
    }
   },
   "outputs": [],
   "source": [
    "# creating lists of paths to photos and encodings\n",
    "import data_functions\n",
    "input_list, enc_list = data_functions.list_of_paths('data/train')\n",
    "# creating paris of phots and encodings (0 - photos in pairs is not the same, 1- photo and encoding are the same picture)\n",
    "data = data_functions.create_list_of_pairs_and_labels(input_list, enc_list, 1)"
   ]
  },
  {
   "cell_type": "code",
   "execution_count": null,
   "outputs": [],
   "source": [
    "# classes for PyTorch trainig\n",
    "from torch.utils.data import Dataset\n",
    "from PIL import Image\n",
    "from torchvision.transforms import transforms\n",
    "\n",
    "class ImageDataset(Dataset):\n",
    "    def __init__(self, pairs, labels, transform=None):\n",
    "        self.pairs = pairs\n",
    "        self.labels = labels\n",
    "        self.transform = transform\n",
    "\n",
    "    def __len__(self):\n",
    "        return len(self.labels)\n",
    "\n",
    "    def __getitem__(self, idx):\n",
    "        photo = Image.open(self.pairs[idx][0])\n",
    "        encoding = Image.open(self.pairs[idx][1])\n",
    "        if self.transform is not None:\n",
    "            photo = self.transform(photo)\n",
    "            encoding = self.transform(encoding)\n",
    "        return photo, encoding, self.labels[idx]\n",
    "\n",
    "pairs, labels = data\n",
    "transform = transforms.Compose([\n",
    "    transforms.ToTensor()\n",
    "])\n",
    "ds = ImageDataset(pairs, labels, transform)\n"
   ],
   "metadata": {
    "collapsed": false
   }
  },
  {
   "cell_type": "code",
   "execution_count": null,
   "outputs": [],
   "source": [
    "# todo: zrobić clasę modelu (książka - skończyłem na 426 stronie"
   ],
   "metadata": {
    "collapsed": false
   }
  }
 ],
 "metadata": {
  "kernelspec": {
   "display_name": "Python 3",
   "language": "python",
   "name": "python3"
  },
  "language_info": {
   "codemirror_mode": {
    "name": "ipython",
    "version": 2
   },
   "file_extension": ".py",
   "mimetype": "text/x-python",
   "name": "python",
   "nbconvert_exporter": "python",
   "pygments_lexer": "ipython2",
   "version": "2.7.6"
  }
 },
 "nbformat": 4,
 "nbformat_minor": 0
}
