{
 "cells": [
  {
   "cell_type": "code",
   "execution_count": null,
   "metadata": {
    "collapsed": true
   },
   "outputs": [],
   "source": [
    "# creating lists of paths to photos and encodings\n",
    "import pathlib\n",
    "input_path = pathlib.Path('data/train/input')\n",
    "input_list = sorted([str(path) for path in input_path.glob('*.jpg')])\n",
    "\n",
    "enc_path = pathlib.Path('data/train/enc')\n",
    "enc_list = sorted([str(path) for path in enc_path.glob('*.jpg')])\n",
    "for i in range(12):\n",
    "    print(input_list[i], enc_list[i])"
   ]
  },
  {
   "cell_type": "code",
   "execution_count": null,
   "outputs": [],
   "source": [
    "# creating paris of phots and encodings (0 - photos in pairs is not the same, 1- photo and encoding are the same picture)\n",
    "import random\n",
    "def create_list_of_pairs_and_labels(input_list, enc_list, number_of_not_correct_pairs):\n",
    "    step = number_of_not_correct_pairs+1\n",
    "    n_data = step*len(input_list)\n",
    "    pairs = [0]*n_data\n",
    "    labels = [0]*n_data\n",
    "    for photo_idx in range(0, len(input_list)):\n",
    "        pairs[photo_idx*step] = [input_list[photo_idx], enc_list[photo_idx]]\n",
    "        labels[photo_idx*step] = 1 # pair of photo and its encoding\n",
    "        enc_without_correct_pair = [x for i, x in enumerate(enc_list) if i != photo_idx]\n",
    "        for pair_idx in range(1,number_of_not_correct_pairs+1):\n",
    "            enc = random.choice(enc_without_correct_pair)\n",
    "            enc_without_correct_pair.remove(enc)\n",
    "            pairs[photo_idx*step+pair_idx] = [input_list[photo_idx], enc]\n",
    "            labels[photo_idx*step+pair_idx] = 0 # pair of photo and encoding of some other photo\n",
    "    return pairs, labels\n",
    "data = create_list_of_pairs_and_labels(input_list, enc_list, 1)"
   ],
   "metadata": {
    "collapsed": false
   }
  },
  {
   "cell_type": "code",
   "execution_count": null,
   "outputs": [],
   "source": [
    "# classes for PyTorch trainig\n",
    "from torch.utils.data import Dataset\n",
    "from PIL import Image\n",
    "from torchvision.transforms import transforms\n",
    "\n",
    "class ImageDataset(Dataset):\n",
    "    def __init__(self, pairs, labels, transform=None):\n",
    "        self.pairs = pairs\n",
    "        self.labels = labels\n",
    "        self.transform = transform\n",
    "\n",
    "    def __len__(self):\n",
    "        return len(self.labels)\n",
    "\n",
    "    def __getitem__(self, idx):\n",
    "        photo = Image.open(self.pairs[idx][0])\n",
    "        encoding = Image.open(self.pairs[idx][1])\n",
    "        if self.transform is not None:\n",
    "            photo = self.transform(photo)\n",
    "            encoding = self.transform(encoding)\n",
    "        return photo, encoding, self.labels[idx]\n",
    "\n",
    "pairs, labels = data\n",
    "transform = transforms.Compose([\n",
    "    transforms.ToTensor()\n",
    "])\n",
    "ds = ImageDataset(pairs, labels, transform)\n"
   ],
   "metadata": {
    "collapsed": false
   }
  },
  {
   "cell_type": "code",
   "execution_count": null,
   "outputs": [],
   "source": [
    "# todo: zrobić clasę modelu (książka - skończyłem na 398 stronie"
   ],
   "metadata": {
    "collapsed": false
   }
  }
 ],
 "metadata": {
  "kernelspec": {
   "display_name": "Python 3",
   "language": "python",
   "name": "python3"
  },
  "language_info": {
   "codemirror_mode": {
    "name": "ipython",
    "version": 2
   },
   "file_extension": ".py",
   "mimetype": "text/x-python",
   "name": "python",
   "nbconvert_exporter": "python",
   "pygments_lexer": "ipython2",
   "version": "2.7.6"
  }
 },
 "nbformat": 4,
 "nbformat_minor": 0
}
