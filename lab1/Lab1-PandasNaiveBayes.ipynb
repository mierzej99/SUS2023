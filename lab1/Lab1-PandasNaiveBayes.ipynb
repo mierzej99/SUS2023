{
 "nbformat": 4,
 "nbformat_minor": 0,
 "metadata": {
  "colab": {
   "name": "Copy of Lab 1 - intro to pandas and Naive Bayes.ipynb",
   "provenance": [],
   "collapsed_sections": []
  },
  "kernelspec": {
   "name": "python3",
   "display_name": "Python 3"
  },
  "language_info": {
   "name": "python"
  }
 },
 "cells": [
  {
   "cell_type": "markdown",
   "source": [
    "# Intro to Pandas"
   ],
   "metadata": {
    "id": "Gp-GQtixnKfU"
   }
  },
  {
   "cell_type": "code",
   "source": [
    "!pip install pandas\n",
    "!pip install numpy\n",
    "!pip install matplotlib\n",
    "!pip install sklearn"
   ],
   "metadata": {
    "id": "1p8GkHo9nWgF"
   },
   "execution_count": 1,
   "outputs": [
    {
     "name": "stdout",
     "output_type": "stream",
     "text": [
      "Collecting pandas\r\n",
      "  Using cached pandas-1.5.3-cp38-cp38-manylinux_2_17_x86_64.manylinux2014_x86_64.whl (12.2 MB)\r\n",
      "Collecting pytz>=2020.1\r\n",
      "  Using cached pytz-2022.7.1-py2.py3-none-any.whl (499 kB)\r\n",
      "Requirement already satisfied: python-dateutil>=2.8.1 in ./venv/lib/python3.8/site-packages (from pandas) (2.8.2)\r\n",
      "Collecting numpy>=1.20.3\r\n",
      "  Downloading numpy-1.24.2-cp38-cp38-manylinux_2_17_x86_64.manylinux2014_x86_64.whl (17.3 MB)\r\n",
      "\u001B[2K     \u001B[90m━━━━━━━━━━━━━━━━━━━━━━━━━━━━━━━━━━━━━━━━\u001B[0m \u001B[32m17.3/17.3 MB\u001B[0m \u001B[31m8.7 MB/s\u001B[0m eta \u001B[36m0:00:00\u001B[0m00:01\u001B[0mm00:01\u001B[0m\r\n",
      "\u001B[?25hRequirement already satisfied: six>=1.5 in ./venv/lib/python3.8/site-packages (from python-dateutil>=2.8.1->pandas) (1.16.0)\r\n",
      "Installing collected packages: pytz, numpy, pandas\r\n",
      "Successfully installed numpy-1.24.2 pandas-1.5.3 pytz-2022.7.1\r\n",
      "\r\n",
      "\u001B[1m[\u001B[0m\u001B[34;49mnotice\u001B[0m\u001B[1;39;49m]\u001B[0m\u001B[39;49m A new release of pip available: \u001B[0m\u001B[31;49m22.3.1\u001B[0m\u001B[39;49m -> \u001B[0m\u001B[32;49m23.0.1\u001B[0m\r\n",
      "\u001B[1m[\u001B[0m\u001B[34;49mnotice\u001B[0m\u001B[1;39;49m]\u001B[0m\u001B[39;49m To update, run: \u001B[0m\u001B[32;49mpip install --upgrade pip\u001B[0m\r\n",
      "Requirement already satisfied: numpy in ./venv/lib/python3.8/site-packages (1.24.2)\r\n",
      "\r\n",
      "\u001B[1m[\u001B[0m\u001B[34;49mnotice\u001B[0m\u001B[1;39;49m]\u001B[0m\u001B[39;49m A new release of pip available: \u001B[0m\u001B[31;49m22.3.1\u001B[0m\u001B[39;49m -> \u001B[0m\u001B[32;49m23.0.1\u001B[0m\r\n",
      "\u001B[1m[\u001B[0m\u001B[34;49mnotice\u001B[0m\u001B[1;39;49m]\u001B[0m\u001B[39;49m To update, run: \u001B[0m\u001B[32;49mpip install --upgrade pip\u001B[0m\r\n",
      "Collecting matplotlib\r\n",
      "  Downloading matplotlib-3.7.0-cp38-cp38-manylinux_2_12_x86_64.manylinux2010_x86_64.whl (9.2 MB)\r\n",
      "\u001B[2K     \u001B[90m━━━━━━━━━━━━━━━━━━━━━━━━━━━━━━━━━━━━━━━━\u001B[0m \u001B[32m9.2/9.2 MB\u001B[0m \u001B[31m7.4 MB/s\u001B[0m eta \u001B[36m0:00:00\u001B[0m00:01\u001B[0m00:01\u001B[0m\r\n",
      "\u001B[?25hCollecting kiwisolver>=1.0.1\r\n",
      "  Downloading kiwisolver-1.4.4-cp38-cp38-manylinux_2_5_x86_64.manylinux1_x86_64.whl (1.2 MB)\r\n",
      "\u001B[2K     \u001B[90m━━━━━━━━━━━━━━━━━━━━━━━━━━━━━━━━━━━━━━━━\u001B[0m \u001B[32m1.2/1.2 MB\u001B[0m \u001B[31m9.5 MB/s\u001B[0m eta \u001B[36m0:00:00\u001B[0m:00:01\u001B[0m00:01\u001B[0m\r\n",
      "\u001B[?25hRequirement already satisfied: importlib-resources>=3.2.0 in ./venv/lib/python3.8/site-packages (from matplotlib) (5.12.0)\r\n",
      "Collecting contourpy>=1.0.1\r\n",
      "  Downloading contourpy-1.0.7-cp38-cp38-manylinux_2_17_x86_64.manylinux2014_x86_64.whl (300 kB)\r\n",
      "\u001B[2K     \u001B[90m━━━━━━━━━━━━━━━━━━━━━━━━━━━━━━━━━━━━━━━\u001B[0m \u001B[32m300.0/300.0 kB\u001B[0m \u001B[31m5.4 MB/s\u001B[0m eta \u001B[36m0:00:00\u001B[0m00:01\u001B[0m\r\n",
      "\u001B[?25hRequirement already satisfied: packaging>=20.0 in ./venv/lib/python3.8/site-packages (from matplotlib) (23.0)\r\n",
      "Requirement already satisfied: python-dateutil>=2.7 in ./venv/lib/python3.8/site-packages (from matplotlib) (2.8.2)\r\n",
      "Collecting pillow>=6.2.0\r\n",
      "  Downloading Pillow-9.4.0-cp38-cp38-manylinux_2_28_x86_64.whl (3.4 MB)\r\n",
      "\u001B[2K     \u001B[90m━━━━━━━━━━━━━━━━━━━━━━━━━━━━━━━━━━━━━━━━\u001B[0m \u001B[32m3.4/3.4 MB\u001B[0m \u001B[31m10.1 MB/s\u001B[0m eta \u001B[36m0:00:00\u001B[0m00:01\u001B[0m00:01\u001B[0m\r\n",
      "\u001B[?25hCollecting pyparsing>=2.3.1\r\n",
      "  Downloading pyparsing-3.0.9-py3-none-any.whl (98 kB)\r\n",
      "\u001B[2K     \u001B[90m━━━━━━━━━━━━━━━━━━━━━━━━━━━━━━━━━━━━━━━━\u001B[0m \u001B[32m98.3/98.3 kB\u001B[0m \u001B[31m7.8 MB/s\u001B[0m eta \u001B[36m0:00:00\u001B[0m\r\n",
      "\u001B[?25hCollecting cycler>=0.10\r\n",
      "  Downloading cycler-0.11.0-py3-none-any.whl (6.4 kB)\r\n",
      "Requirement already satisfied: numpy>=1.20 in ./venv/lib/python3.8/site-packages (from matplotlib) (1.24.2)\r\n",
      "Collecting fonttools>=4.22.0\r\n",
      "  Downloading fonttools-4.38.0-py3-none-any.whl (965 kB)\r\n",
      "\u001B[2K     \u001B[90m━━━━━━━━━━━━━━━━━━━━━━━━━━━━━━━━━━━━━━\u001B[0m \u001B[32m965.4/965.4 kB\u001B[0m \u001B[31m10.6 MB/s\u001B[0m eta \u001B[36m0:00:00\u001B[0ma \u001B[36m0:00:01\u001B[0m\r\n",
      "\u001B[?25hRequirement already satisfied: zipp>=3.1.0 in ./venv/lib/python3.8/site-packages (from importlib-resources>=3.2.0->matplotlib) (3.15.0)\r\n",
      "Requirement already satisfied: six>=1.5 in ./venv/lib/python3.8/site-packages (from python-dateutil>=2.7->matplotlib) (1.16.0)\r\n",
      "Installing collected packages: pyparsing, pillow, kiwisolver, fonttools, cycler, contourpy, matplotlib\r\n",
      "Successfully installed contourpy-1.0.7 cycler-0.11.0 fonttools-4.38.0 kiwisolver-1.4.4 matplotlib-3.7.0 pillow-9.4.0 pyparsing-3.0.9\r\n",
      "\r\n",
      "\u001B[1m[\u001B[0m\u001B[34;49mnotice\u001B[0m\u001B[1;39;49m]\u001B[0m\u001B[39;49m A new release of pip available: \u001B[0m\u001B[31;49m22.3.1\u001B[0m\u001B[39;49m -> \u001B[0m\u001B[32;49m23.0.1\u001B[0m\r\n",
      "\u001B[1m[\u001B[0m\u001B[34;49mnotice\u001B[0m\u001B[1;39;49m]\u001B[0m\u001B[39;49m To update, run: \u001B[0m\u001B[32;49mpip install --upgrade pip\u001B[0m\r\n",
      "Collecting sklearn\r\n",
      "  Downloading sklearn-0.0.post1.tar.gz (3.6 kB)\r\n",
      "  Preparing metadata (setup.py) ... \u001B[?25ldone\r\n",
      "\u001B[?25hBuilding wheels for collected packages: sklearn\r\n",
      "  Building wheel for sklearn (setup.py) ... \u001B[?25ldone\r\n",
      "\u001B[?25h  Created wheel for sklearn: filename=sklearn-0.0.post1-py3-none-any.whl size=2935 sha256=33b16f5ec31f605218e9a9f04c76901c2c3780bb8c8c73c654f276c3c8861b0f\r\n",
      "  Stored in directory: /home/michalmierzejewski/.cache/pip/wheels/1c/2f/26/476423e3abcbdc095c9061b4a385339f4d5c4952c036ef8262\r\n",
      "Successfully built sklearn\r\n",
      "Installing collected packages: sklearn\r\n",
      "Successfully installed sklearn-0.0.post1\r\n",
      "\r\n",
      "\u001B[1m[\u001B[0m\u001B[34;49mnotice\u001B[0m\u001B[1;39;49m]\u001B[0m\u001B[39;49m A new release of pip available: \u001B[0m\u001B[31;49m22.3.1\u001B[0m\u001B[39;49m -> \u001B[0m\u001B[32;49m23.0.1\u001B[0m\r\n",
      "\u001B[1m[\u001B[0m\u001B[34;49mnotice\u001B[0m\u001B[1;39;49m]\u001B[0m\u001B[39;49m To update, run: \u001B[0m\u001B[32;49mpip install --upgrade pip\u001B[0m\r\n"
     ]
    }
   ]
  },
  {
   "cell_type": "code",
   "source": [
    "import numpy as np\n",
    "import pandas as pd\n",
    "import matplotlib.pyplot as plt\n",
    "import matplotlib"
   ],
   "metadata": {
    "id": "zgG_fyLtnpdl"
   },
   "execution_count": 2,
   "outputs": []
  },
  {
   "cell_type": "code",
   "source": [
    "# Enable inline plotting\n",
    "%matplotlib inline"
   ],
   "metadata": {
    "id": "eh9saypJnqLF"
   },
   "execution_count": 3,
   "outputs": []
  },
  {
   "cell_type": "code",
   "source": [
    "weather = ['Sunny','Sunny','Overcast','Rainy','Rainy','Rainy','Overcast','Sunny','Sunny',\n",
    "'Rainy','Sunny','Overcast','Overcast','Rainy']\n",
    "temp = ['85','80','83','70','68','65','64','72','69','75','75','72','81','87']\n",
    "humidity = ['85', '90', '86', '96', '80', '70', '65', '95', '70', '80', '70', '90', '75', '91']\n",
    "windy = [False, True, False, False, False, True, True, False, False, False, True, True, False, True]\n",
    "play = ['No','No','Yes','Yes','Yes','No','Yes','No','Yes','Yes','Yes','Yes','Yes','No']"
   ],
   "metadata": {
    "id": "sE5BVwwUojju"
   },
   "execution_count": 4,
   "outputs": []
  },
  {
   "cell_type": "code",
   "source": [
    "weather_dataset = list(zip(weather, temp, humidity, windy, play))\n",
    "weather_dataset"
   ],
   "metadata": {
    "id": "QwVeVPgmon2w"
   },
   "execution_count": 5,
   "outputs": [
    {
     "data": {
      "text/plain": "[('Sunny', '85', '85', False, 'No'),\n ('Sunny', '80', '90', True, 'No'),\n ('Overcast', '83', '86', False, 'Yes'),\n ('Rainy', '70', '96', False, 'Yes'),\n ('Rainy', '68', '80', False, 'Yes'),\n ('Rainy', '65', '70', True, 'No'),\n ('Overcast', '64', '65', True, 'Yes'),\n ('Sunny', '72', '95', False, 'No'),\n ('Sunny', '69', '70', False, 'Yes'),\n ('Rainy', '75', '80', False, 'Yes'),\n ('Sunny', '75', '70', True, 'Yes'),\n ('Overcast', '72', '90', True, 'Yes'),\n ('Overcast', '81', '75', False, 'Yes'),\n ('Rainy', '87', '91', True, 'No')]"
     },
     "execution_count": 5,
     "metadata": {},
     "output_type": "execute_result"
    }
   ]
  },
  {
   "cell_type": "code",
   "source": [
    "# creating a pandas DataFrame\n",
    "df = pd.DataFrame(data = weather_dataset, columns=['Weather', 'Temperature', 'Humidity', 'Windy', 'Play'])\n",
    "df"
   ],
   "metadata": {
    "id": "SKFE-q8Wor3w"
   },
   "execution_count": 6,
   "outputs": [
    {
     "data": {
      "text/plain": "     Weather Temperature Humidity  Windy Play\n0      Sunny          85       85  False   No\n1      Sunny          80       90   True   No\n2   Overcast          83       86  False  Yes\n3      Rainy          70       96  False  Yes\n4      Rainy          68       80  False  Yes\n5      Rainy          65       70   True   No\n6   Overcast          64       65   True  Yes\n7      Sunny          72       95  False   No\n8      Sunny          69       70  False  Yes\n9      Rainy          75       80  False  Yes\n10     Sunny          75       70   True  Yes\n11  Overcast          72       90   True  Yes\n12  Overcast          81       75  False  Yes\n13     Rainy          87       91   True   No",
      "text/html": "<div>\n<style scoped>\n    .dataframe tbody tr th:only-of-type {\n        vertical-align: middle;\n    }\n\n    .dataframe tbody tr th {\n        vertical-align: top;\n    }\n\n    .dataframe thead th {\n        text-align: right;\n    }\n</style>\n<table border=\"1\" class=\"dataframe\">\n  <thead>\n    <tr style=\"text-align: right;\">\n      <th></th>\n      <th>Weather</th>\n      <th>Temperature</th>\n      <th>Humidity</th>\n      <th>Windy</th>\n      <th>Play</th>\n    </tr>\n  </thead>\n  <tbody>\n    <tr>\n      <th>0</th>\n      <td>Sunny</td>\n      <td>85</td>\n      <td>85</td>\n      <td>False</td>\n      <td>No</td>\n    </tr>\n    <tr>\n      <th>1</th>\n      <td>Sunny</td>\n      <td>80</td>\n      <td>90</td>\n      <td>True</td>\n      <td>No</td>\n    </tr>\n    <tr>\n      <th>2</th>\n      <td>Overcast</td>\n      <td>83</td>\n      <td>86</td>\n      <td>False</td>\n      <td>Yes</td>\n    </tr>\n    <tr>\n      <th>3</th>\n      <td>Rainy</td>\n      <td>70</td>\n      <td>96</td>\n      <td>False</td>\n      <td>Yes</td>\n    </tr>\n    <tr>\n      <th>4</th>\n      <td>Rainy</td>\n      <td>68</td>\n      <td>80</td>\n      <td>False</td>\n      <td>Yes</td>\n    </tr>\n    <tr>\n      <th>5</th>\n      <td>Rainy</td>\n      <td>65</td>\n      <td>70</td>\n      <td>True</td>\n      <td>No</td>\n    </tr>\n    <tr>\n      <th>6</th>\n      <td>Overcast</td>\n      <td>64</td>\n      <td>65</td>\n      <td>True</td>\n      <td>Yes</td>\n    </tr>\n    <tr>\n      <th>7</th>\n      <td>Sunny</td>\n      <td>72</td>\n      <td>95</td>\n      <td>False</td>\n      <td>No</td>\n    </tr>\n    <tr>\n      <th>8</th>\n      <td>Sunny</td>\n      <td>69</td>\n      <td>70</td>\n      <td>False</td>\n      <td>Yes</td>\n    </tr>\n    <tr>\n      <th>9</th>\n      <td>Rainy</td>\n      <td>75</td>\n      <td>80</td>\n      <td>False</td>\n      <td>Yes</td>\n    </tr>\n    <tr>\n      <th>10</th>\n      <td>Sunny</td>\n      <td>75</td>\n      <td>70</td>\n      <td>True</td>\n      <td>Yes</td>\n    </tr>\n    <tr>\n      <th>11</th>\n      <td>Overcast</td>\n      <td>72</td>\n      <td>90</td>\n      <td>True</td>\n      <td>Yes</td>\n    </tr>\n    <tr>\n      <th>12</th>\n      <td>Overcast</td>\n      <td>81</td>\n      <td>75</td>\n      <td>False</td>\n      <td>Yes</td>\n    </tr>\n    <tr>\n      <th>13</th>\n      <td>Rainy</td>\n      <td>87</td>\n      <td>91</td>\n      <td>True</td>\n      <td>No</td>\n    </tr>\n  </tbody>\n</table>\n</div>"
     },
     "execution_count": 6,
     "metadata": {},
     "output_type": "execute_result"
    }
   ]
  },
  {
   "cell_type": "code",
   "source": [
    "# saving pandas DataFrame\n",
    "df.to_csv('weather.csv',index=False)"
   ],
   "metadata": {
    "id": "muIX2onTox-W"
   },
   "execution_count": null,
   "outputs": []
  },
  {
   "cell_type": "code",
   "source": [
    "# loading pandas DataFrame\n",
    "df = pd.read_csv('weather.csv')"
   ],
   "metadata": {
    "id": "Mn4hECSzoyto"
   },
   "execution_count": null,
   "outputs": []
  },
  {
   "cell_type": "markdown",
   "source": [
    "# First exploratory data analysis - wine dataset"
   ],
   "metadata": {
    "id": "V9MINdlVpB-L"
   }
  },
  {
   "cell_type": "code",
   "source": [
    "import sklearn"
   ],
   "metadata": {
    "id": "oncezJbBpGhk"
   },
   "execution_count": null,
   "outputs": []
  },
  {
   "cell_type": "code",
   "source": [
    "from sklearn.datasets import load_wine\n",
    "data = load_wine(as_frame=True)"
   ],
   "metadata": {
    "id": "nRTON_N1pI6u"
   },
   "execution_count": null,
   "outputs": []
  },
  {
   "cell_type": "code",
   "source": [
    "# The primary two components of pandas are the Series and DataFrame.\n",
    "# pandas dataframe\n",
    "df = data.data"
   ],
   "metadata": {
    "id": "wfF-7ktxsAYZ"
   },
   "execution_count": null,
   "outputs": []
  },
  {
   "cell_type": "code",
   "source": [
    "# pandas series\n",
    "# A Series is essentially a column, and a DataFrame is a multi-dimensional table made up of a collection of Series.\n",
    "data.target"
   ],
   "metadata": {
    "id": "fwu-otLIsACe"
   },
   "execution_count": null,
   "outputs": []
  },
  {
   "cell_type": "code",
   "source": [
    "df['score'] = data.target"
   ],
   "metadata": {
    "id": "D00SIRls0I-Z"
   },
   "execution_count": null,
   "outputs": []
  },
  {
   "cell_type": "code",
   "source": [
    "list(df.columns)"
   ],
   "metadata": {
    "id": "pEbJAJdsu3XW"
   },
   "execution_count": null,
   "outputs": []
  },
  {
   "cell_type": "markdown",
   "source": [
    "## Basic operations on DataFrames"
   ],
   "metadata": {
    "id": "NIxoww0NukG5"
   }
  },
  {
   "cell_type": "code",
   "source": [
    "# Getting column values from a DataFrame\n",
    "# This will result in a Pandas Series \n",
    "alcohol = df['alcohol']\n",
    "alcohol"
   ],
   "metadata": {
    "id": "zNnXeN_-ui_Z"
   },
   "execution_count": null,
   "outputs": []
  },
  {
   "cell_type": "code",
   "source": [
    "# The same operation can result in a Pandas DataFrame\n",
    "alcohol = df[['alcohol']]\n",
    "alcohol"
   ],
   "metadata": {
    "id": "WGFSy989vhAr"
   },
   "execution_count": null,
   "outputs": []
  },
  {
   "cell_type": "code",
   "source": [
    "# For rows, we have two options:\n",
    "#   .loc - locates by name\n",
    "#   .iloc- locates by numerical index\n",
    "# with iloc we give it the numerical index of DataFrame\n",
    "row = df.iloc[0]\n",
    "row"
   ],
   "metadata": {
    "id": "ia0FcunYvtD0"
   },
   "execution_count": null,
   "outputs": []
  },
  {
   "cell_type": "code",
   "source": [
    "# slicing by rows\n",
    "df.iloc[1:4]"
   ],
   "metadata": {
    "id": "y6IwFgCFwmQt"
   },
   "execution_count": null,
   "outputs": []
  },
  {
   "cell_type": "code",
   "source": [
    "# conditional selection\n",
    "df[df.alcohol <= 14]"
   ],
   "metadata": {
    "id": "nBBhxoPdw0Hg"
   },
   "execution_count": null,
   "outputs": []
  },
  {
   "cell_type": "code",
   "source": [
    "# More advanced conditional selection\n",
    "df[(df['alcohol'] <= 14) & (df['alcohol'] >= 13) | (df['score'] == 2)]"
   ],
   "metadata": {
    "id": "eogUuSD8xTx0"
   },
   "execution_count": null,
   "outputs": []
  },
  {
   "cell_type": "code",
   "source": [
    "# Applying functions\n",
    "def is_strong(val):\n",
    "  if val > 12:\n",
    "    return \"strong\"\n",
    "  else:\n",
    "    return \"weak\"\n",
    "\n",
    "df[\"strong_or_not\"] = df[\"alcohol\"].apply(is_strong)\n",
    "df.head()"
   ],
   "metadata": {
    "id": "de7iiCd1ylyH"
   },
   "execution_count": null,
   "outputs": []
  },
  {
   "cell_type": "markdown",
   "source": [
    "### Getting info about the DataFrame"
   ],
   "metadata": {
    "id": "xH0u7SVazDAG"
   }
  },
  {
   "cell_type": "code",
   "source": [
    "df.info()"
   ],
   "metadata": {
    "id": "s5rUpJW9tKBh"
   },
   "execution_count": null,
   "outputs": []
  },
  {
   "cell_type": "code",
   "source": [
    "df.shape"
   ],
   "metadata": {
    "id": "UU9coSuftg-p"
   },
   "execution_count": null,
   "outputs": []
  },
  {
   "cell_type": "code",
   "source": [
    "df.head()"
   ],
   "metadata": {
    "id": "GD6-SYYatHmk"
   },
   "execution_count": null,
   "outputs": []
  },
  {
   "cell_type": "code",
   "source": [
    "df.describe()"
   ],
   "metadata": {
    "id": "5NWq2Z1Bt7PZ"
   },
   "execution_count": null,
   "outputs": []
  },
  {
   "cell_type": "code",
   "source": [
    "# Quick histogram\n",
    "df['alcohol'].plot(kind='hist', title='Alcohol')"
   ],
   "metadata": {
    "id": "SDHtD_NOzQea"
   },
   "execution_count": null,
   "outputs": []
  },
  {
   "cell_type": "code",
   "source": [
    "df.plot(kind='scatter', x='alcohol', y='score', title='Alcohol to Score');\n"
   ],
   "metadata": {
    "id": "n6Ys_Hpuzfe9"
   },
   "execution_count": null,
   "outputs": []
  },
  {
   "cell_type": "markdown",
   "source": [
    "Additional sources:\n",
    "https://cloudxlab.com/blog/numpy-pandas-introduction/\n",
    "\n",
    "https://www.learndatasci.com/tutorials/python-pandas-tutorial-complete-introduction-for-beginners/\n",
    "\n",
    "https://www.labri.fr/perso/nrougier/from-python-to-numpy/"
   ],
   "metadata": {
    "id": "IbTYiBF4q56O"
   }
  },
  {
   "cell_type": "markdown",
   "source": [
    "# Naive Bayes\n",
    "Naive Bayes is very simple, yet powerful algorithm for classification. It is based on Bayes Theorem with an assumption of independence among predictors. It assumes that the presence of a feature in a class is unrelated to any other feature.\n",
    "\n",
    "## Bayes Theorem\n",
    "Bayes theorem describes the probability of an event, based on prior knowledge of conditions that might be related to the event.\n",
    "Given a Hypothesis (H) and evidence (E), Bayes’ Theorem states that the relationship between the probability of the hypothesis before getting the evidence, P(H), and the probability of the hypothesis after getting the evidence, P(H|E), is:\n",
    "\n",
    "  P(H|E) = P(E|H)P(H) / P(E)\n",
    "\n",
    "P(H) is called the prior probability,\n",
    "\n",
    "P(H|E) is called the posterior probability,\n",
    "\n",
    "P(H|E)/P(E) is called the likelihood ratio.\n",
    "\n",
    "P(H) and P(E) are the probabilities of A occurring and B occurring independently of each other.\n",
    "\n",
    "## Example 1\n",
    "We’re testing for a rare disease, where we have a highly sensitive and specific test: 99%. Given that a patient tests positive, what is the probability that the patient is actually sick? \n",
    "\n",
    "A naive answer would be: Imagine that we have 100 × 100 = 10 000 representative people. Thus 100 would be sick and 9900 healthy. After running our test on them, 99 sick people would \n",
    "gest test result as sick and 99 healthy would test sick as well. We’re equally likely to be healthy or sick when the test would result with positive outcome.\n",
    "\n",
    "Given events x and y, there’s a relationship between the probabilities of either event (denoted P(x) and P(y) ), the joint probabilities (both happen, which is denoted P(x, y) ), and conditional probabilities (event x happens given y happens, denoted P(x|y) )\n",
    "\n",
    "P(y|x)P(x) = P(x,y) = P(x|y)P(y)\n",
    "\n",
    "We solve for P(y|x):\n",
    "\n",
    "P (y|x) = P (x|y)P(y) / P(x) \n",
    "\n",
    "P (sick|+) = P (+|sick)P(sick) / P(+) = 0.99 ∗ 0.01 / (0.99 ∗ 0.01 + 0.01 ∗ 0.99 ) = 0.5 = 50%\n",
    "## Example 2\n",
    "\n",
    "P(A|B) = P(B|A)P(A) / P(B)\n",
    "\n",
    "or in other words\n",
    "\n",
    "P(class|features) = P(features|class)P(class) / P(features)\n",
    "\n",
    "For example we need to classify a person's sex based on the height and weight. So here the class={male,female} and features={height,weight}, and the formula can he rewritten as\n",
    "\n",
    "P(sex|height,weight)=P(height,weight|sex)P(sex) / P(height,weight)\n",
    "\n",
    "Or given the hypothesis : \"Age\":'<=30', \"Income\":\"medium\", \"Student\":'yes' , \"Creadit_Rating\":'fair' \n",
    "\n",
    "Predict the probability that he will buy or will not buy a computer.\n",
    "\n",
    "      Age  Income Student Credit_Rating Buys_Computer\n",
    "      \n",
    "      <=30   high    no          fair            no\n",
    "      <=30   high    no      excellent           no\n",
    "      31-40  high    no          fair           yes\n",
    "      >40    medium  no          fair           yes\n",
    "      >40    low     yes         fair           yes\n",
    "      >40    low     yes     excellent           no\n",
    "      31-40  low     yes     excellent          yes\n",
    "      <=30   medium  no          fair            no\n",
    "      <=30   low     yes         fair           yes\n",
    "      >40    medium  yes         fair           yes\n",
    "      <=30   medium  yes     excellent          yes\n",
    "      31-40  medium  no      excellent          yes\n",
    "      31-40  high    yes         fair           yes\n",
    "      >40    medium  no      excellent           no\n",
    "\n",
    "\n",
    "So:\n",
    "\n",
    "P(Buyscomputer|Age,Income,Student,Creditrating) = P(Age,Income,Student,Creditrating|Buyscomputer)P(Buyscomputer) / P(Age,Income,Student,Creditrating)\n",
    "\n",
    "P(Age,Income,Student,Creditrating|Buyscomputer)=P(Age|Buyscomputer)∗P(Income|Buyscomputer)∗P(Student|Buyscomputer)∗P(Creditrating|Buyscomputer)\n",
    "\n",
    "prior = P(Buys computer)\n",
    "\n",
    "P(Buys computer ) = How many times (yes/no) appears / Total observations\n",
    "\n",
    "P(Buys computer = Yes) = 9 / 14 = 0.642857\n",
    "\n",
    "P(Buys computer = No) = 5 / 14 = 0.357143\n",
    "\n",
    "Likelihood is generated for each of the features of the dataset. It is a probability of finding each feature given class label.\n",
    "\n",
    "P(Age='<=30'|Buyscomputer= no) = 3 / 5 = 0.6\n",
    "\n",
    "P(Age='>40 '|Buyscomputer= no) = 2 / 5 = 0.4\n",
    "\n",
    "P(Age='<=30'|Buyscomputer= yes) = 2 / 9 = 0.22\n",
    "\n",
    "P(Age='>40 '|Buyscomputer= yes) = 3 / 9 = 0.33\n",
    "\n",
    "P(Age='31-40  '|Buyscomputer= yes) = 4 / 9 = 0.44\n",
    "\n",
    "\n",
    "P(Income=high|Buyscomputer=yes) = 2 / 9 = 0.22\n",
    "\n",
    "P(Income=medium|Buyscomputer=yes) = 4 / 9 = 0.33\n",
    "\n",
    "P(Income=low|Buyscomputer=yes) = 3 / 9 = 0.33\n",
    "\n",
    "\n",
    "P(Income=high|Buyscomputer=no) = 2 / 5 = 0.4\n",
    "\n",
    "P(Income=medium|Buyscomputer=no) = 1 / 5 = 0.2\n",
    "\n",
    "P(Income=low|Buyscomputer=no) = 2 / 5 = 0.4\n",
    "\n",
    "\n",
    "\n",
    "P(Student=yes|Buyscomputer=yes) = 6 / 9 = 0.67\n",
    "\n",
    "P(Student=no|Buyscomputer=yes) = 3 / 9 = 0.33\n",
    "\n",
    "P(Student=yes|Buyscomputer=no) = 1 / 5 = 0.2\n",
    "\n",
    "P(Student=no|Buyscomputer=no) = 4 / 5 = 0.8\n",
    "\n",
    "\n",
    "P(Creditrating=excellent|Buyscomputer=yes) = 3 / 9 = 0.33\n",
    "\n",
    "P(Creditrating=faire|Buyscomputer=yes) = 6 / 9 = 0.67\n",
    "\n",
    "P(Creditrating=excellent|Buyscomputer=no) = 2 / 5 = 0.4\n",
    "\n",
    "P(Creditrating=faire|Buyscomputer=no) = 3 / 5 = 0.6\n",
    "\n",
    "So to calculate probability of a ne wperson buying a computer for features \"Age\":'<=30', \"Income\":\"medium\", \"Student\":'yes' , \"Credit_Rating\":'fair', \n",
    "\n",
    "P(Buyscomputer = yes | Age,Income,Student,Creditrating) = P(Age='<=30'|Buyscomputer=yes) ∗ P(Income=medium|Buyscomputer=yes)∗P(Student=yes|Buyscomputer=yes) ∗ P(Creditrating=fair|Buyscomputer=yes) * P(Buyscomputer=yes) / P(Age='<=30') * P(Income=medium)*P(Student=yes)*P(Creditrating=fair)\n",
    "\n",
    "P(Buyscomputer = no | Age,Income,Student,Creditrating) = P(Age='<=30'|Buyscomputer=no) ∗ P(Income=medium|Buyscomputer=no)∗P(Student=yes|Buyscomputer=no) ∗ P(Creditrating=fair|Buyscomputer=no) * P(Buyscomputer=no) / P(Age='<=30') * P(Income=medium)*P(Student=yes)*P(Creditrating=fair)\n",
    "\n",
    "Since we will be comparing probabilities, we can skil the denominator\n",
    "\n",
    "P(Buyscomputer = yes | Age,Income,Student,Creditrating) = 0.22 * 0.33 * 0.67 * 0.67 * 0.642857 = 0.21\n",
    "\n",
    "P(Buyscomputer = no | Age,Income,Student,Creditrating) = 0.22 * 0.2 * 0.2 * 0.6 * 0.357143 = 0.0019\n",
    "\n",
    "\n",
    "So the result is that it is more probable that the person will buy the computer."
   ],
   "metadata": {
    "id": "YWKYfnPDzyYh"
   }
  },
  {
   "cell_type": "markdown",
   "source": [
    "## Example 3"
   ],
   "metadata": {
    "id": "6Tpr8nDzclKR"
   }
  },
  {
   "cell_type": "code",
   "source": [
    "from sklearn import metrics\n",
    "from sklearn.naive_bayes import GaussianNB\n",
    "from sklearn.model_selection import train_test_split\n",
    "from sklearn import datasets"
   ],
   "metadata": {
    "id": "rqI0vMVu2TV2"
   },
   "execution_count": null,
   "outputs": []
  },
  {
   "cell_type": "code",
   "source": [
    "# Load new data\n",
    "data = datasets.load_iris(as_frame=True)"
   ],
   "metadata": {
    "id": "PqyUP7lKz01A"
   },
   "execution_count": null,
   "outputs": []
  },
  {
   "cell_type": "code",
   "source": [
    "df = data.data\n",
    "df['target'] = data.target"
   ],
   "metadata": {
    "id": "5SZJUuOwq7eX"
   },
   "execution_count": null,
   "outputs": []
  },
  {
   "cell_type": "code",
   "source": [
    "df.head()"
   ],
   "metadata": {
    "id": "Alu3oXFg35aV"
   },
   "execution_count": null,
   "outputs": []
  },
  {
   "cell_type": "code",
   "source": [
    "df.shape"
   ],
   "metadata": {
    "id": "jaa04M5e4Brh"
   },
   "execution_count": null,
   "outputs": []
  },
  {
   "cell_type": "code",
   "source": [
    "df.columns"
   ],
   "metadata": {
    "id": "msmjaBIP5ES3"
   },
   "execution_count": null,
   "outputs": []
  },
  {
   "cell_type": "code",
   "source": [
    "feature_columns = list(df.columns)[:-1]\n",
    "target_column = list(df.columns)[-1]\n",
    "feature_columns, target_column"
   ],
   "metadata": {
    "id": "RFRNLGST4yPq"
   },
   "execution_count": null,
   "outputs": []
  },
  {
   "cell_type": "code",
   "source": [
    "# divide our set into a test and train sets\n",
    "train_df, test_df = train_test_split(df, test_size=0.3, random_state=4)"
   ],
   "metadata": {
    "id": "IbjGZKyHz6QW"
   },
   "execution_count": null,
   "outputs": []
  },
  {
   "cell_type": "code",
   "source": [
    "train_df.shape"
   ],
   "metadata": {
    "id": "DW-9pBpa2moG"
   },
   "execution_count": null,
   "outputs": []
  },
  {
   "cell_type": "code",
   "source": [
    "test_df.shape"
   ],
   "metadata": {
    "id": "albFpKKR4F2Y"
   },
   "execution_count": null,
   "outputs": []
  },
  {
   "cell_type": "code",
   "source": [
    " # initialize a model\n",
    " model = GaussianNB()"
   ],
   "metadata": {
    "id": "_-MYmNIE4HFf"
   },
   "execution_count": null,
   "outputs": []
  },
  {
   "cell_type": "code",
   "source": [
    "# train the model\n",
    "model.fit(train_df[feature_columns] , train_df[target_column])"
   ],
   "metadata": {
    "id": "zjHqn0sw4SEi"
   },
   "execution_count": null,
   "outputs": []
  },
  {
   "cell_type": "code",
   "source": [
    "expected = test_df[target_column]"
   ],
   "metadata": {
    "id": "BxU54wSF5nsu"
   },
   "execution_count": null,
   "outputs": []
  },
  {
   "cell_type": "code",
   "source": [
    "predicted = model.predict(test_df[feature_columns])"
   ],
   "metadata": {
    "id": "86b9wQiz5-wC"
   },
   "execution_count": null,
   "outputs": []
  },
  {
   "cell_type": "code",
   "source": [
    "predicted"
   ],
   "metadata": {
    "id": "RKAP9W8F6Ibn"
   },
   "execution_count": null,
   "outputs": []
  },
  {
   "cell_type": "code",
   "source": [
    " print(metrics.classification_report(expected , predicted)) "
   ],
   "metadata": {
    "id": "SihP-BXq6JbE"
   },
   "execution_count": null,
   "outputs": []
  },
  {
   "cell_type": "code",
   "source": [
    "print(metrics.confusion_matrix(expected , predicted))"
   ],
   "metadata": {
    "id": "EoWe_Ku56NZ1"
   },
   "execution_count": null,
   "outputs": []
  },
  {
   "cell_type": "markdown",
   "source": [],
   "metadata": {
    "collapsed": false
   }
  },
  {
   "cell_type": "markdown",
   "source": [
    "# Task 1\n",
    "Given the training data in the table below (Tennis data with some numerical attributes), without using sklearn library, predict the class of the following new example using Naïve Bayes classification (write a script to calculate it):\n",
    "`outlook=overcast, temperature=60, humidity=62, windy=false`"
   ],
   "metadata": {
    "id": "kzvWqusB7B9B"
   }
  },
  {
   "cell_type": "code",
   "source": [
    "weather_df = pd.read_csv('weather.csv')"
   ],
   "metadata": {
    "id": "AVA4Kcvw6WoF"
   },
   "execution_count": null,
   "outputs": []
  },
  {
   "cell_type": "code",
   "source": [
    "weather_df"
   ],
   "metadata": {
    "id": "B8YOYn137UWR"
   },
   "execution_count": null,
   "outputs": []
  },
  {
   "cell_type": "markdown",
   "source": [
    "Additional resources:\n",
    "https://www.machinelearningplus.com/predictive-modeling/how-naive-bayes-algorithm-works-with-example-and-full-code/\n",
    "\n"
   ],
   "metadata": {
    "id": "Sp1e9Iu6-8hE"
   }
  },
  {
   "cell_type": "code",
   "source": [],
   "metadata": {
    "id": "lgPGc7CM7VJA"
   },
   "execution_count": null,
   "outputs": []
  }
 ]
}
