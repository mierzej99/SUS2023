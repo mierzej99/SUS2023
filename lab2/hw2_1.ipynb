{
 "cells": [
  {
   "cell_type": "markdown",
   "source": [
    "Read details about the Iris data set here and here. What features are in the data set? What is the target (y) variable and what possible values does it take on?\n",
    "\n",
    "Ans: In the dataset there are four features: Sepal Length, Sepal Width, Petal Length and Petal Width. Target variable is calas(Species) of Iris."
   ],
   "metadata": {
    "collapsed": false
   },
   "outputs": [
    {
     "ename": "SyntaxError",
     "evalue": "invalid syntax (1687936770.py, line 1)",
     "output_type": "error",
     "traceback": [
      "\u001B[0;36m  Cell \u001B[0;32mIn[1], line 1\u001B[0;36m\u001B[0m\n\u001B[0;31m    Read details about the Iris data set here and here. What features are in the data set? What\u001B[0m\n\u001B[0m         ^\u001B[0m\n\u001B[0;31mSyntaxError\u001B[0m\u001B[0;31m:\u001B[0m invalid syntax\n"
     ]
    }
   ],
   "execution_count": 1
  },
  {
   "cell_type": "markdown",
   "source": [
    "Which features are we keeping for our training set (X)? How would you change the code to choose different features? When you finish this tutorial, come back and modify this code to see how it influences the results."
   ],
   "metadata": {
    "collapsed": false
   }
  },
  {
   "cell_type": "code",
   "execution_count": null,
   "outputs": [],
   "source": [],
   "metadata": {
    "collapsed": false
   }
  }
 ],
 "metadata": {
  "kernelspec": {
   "display_name": "Python 3",
   "language": "python",
   "name": "python3"
  },
  "language_info": {
   "codemirror_mode": {
    "name": "ipython",
    "version": 2
   },
   "file_extension": ".py",
   "mimetype": "text/x-python",
   "name": "python",
   "nbconvert_exporter": "python",
   "pygments_lexer": "ipython2",
   "version": "2.7.6"
  }
 },
 "nbformat": 4,
 "nbformat_minor": 0
}
