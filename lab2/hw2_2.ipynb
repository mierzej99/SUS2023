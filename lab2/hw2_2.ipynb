{
 "cells": [
  {
   "cell_type": "code",
   "execution_count": 7,
   "outputs": [],
   "source": [
    "from tqdm import tqdm\n",
    "import pandas as pd\n",
    "import numpy as np"
   ],
   "metadata": {
    "collapsed": false
   }
  },
  {
   "cell_type": "markdown",
   "source": [
    "u.data     -- The full u data set, 100000 ratings by 943 users on 1682 items.\n",
    "              Each user has rated at least 20 movies.  Users and items are\n",
    "              numbered consecutively from 1.  The data is randomly\n",
    "              ordered. This is a tab separated list of\n",
    "\t         user id | item id | rating | timestamp.\n",
    "              The time stamps are unix seconds since 1/1/1970 UTC"
   ],
   "metadata": {
    "collapsed": false
   }
  },
  {
   "cell_type": "code",
   "execution_count": 8,
   "outputs": [],
   "source": [
    "def similarity_matrix(df: pd.DataFrame):\n",
    "    # transpose the DataFrame to have the users as columns and items as rows\n",
    "    # compute the cosine similarity using NumPy functions\n",
    "    number_of_users = len(df.iloc[:,0])\n",
    "    cosine_sim = df.dot(df.T)\n",
    "    norms = np.sqrt(np.diag(cosine_sim))\n",
    "    cosine_sim = cosine_sim / np.outer(norms, norms)\n",
    "    # convert the result to a DataFrame\n",
    "    similarities = pd.DataFrame(cosine_sim, index=df.columns, columns=df.columns)\n",
    "    similarities = similarities.iloc[:number_of_users, :number_of_users]\n",
    "    return similarities\n"
   ],
   "metadata": {
    "collapsed": false
   }
  },
  {
   "cell_type": "code",
   "execution_count": 10,
   "outputs": [
    {
     "name": "stdout",
     "output_type": "stream",
     "text": [
      "1.0\n"
     ]
    }
   ],
   "source": [
    "path_to_data = 'ml-100k/u.data'\n",
    "user_data = pd.read_csv(path_to_data, sep='\\t', names=['user id', 'item id', 'rating'], usecols=[0,1,2])\n",
    "user_data = user_data.pivot(index='user id', columns='item id', values='rating')\n",
    "\n",
    "user_data.fillna(0, inplace=True)\n",
    "\n",
    "print(similarity_matrix(user_data).iloc[0,0])"
   ],
   "metadata": {
    "collapsed": false
   }
  },
  {
   "cell_type": "code",
   "execution_count": null,
   "outputs": [],
   "source": [
    "def recommend(user_id, df):\n",
    "    neighbors = df.iloc[:,user_id]"
   ],
   "metadata": {
    "collapsed": false
   }
  }
 ],
 "metadata": {
  "kernelspec": {
   "display_name": "Python 3",
   "language": "python",
   "name": "python3"
  },
  "language_info": {
   "codemirror_mode": {
    "name": "ipython",
    "version": 2
   },
   "file_extension": ".py",
   "mimetype": "text/x-python",
   "name": "python",
   "nbconvert_exporter": "python",
   "pygments_lexer": "ipython2",
   "version": "2.7.6"
  }
 },
 "nbformat": 4,
 "nbformat_minor": 0
}
