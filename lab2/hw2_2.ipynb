{
 "cells": [
  {
   "cell_type": "code",
   "execution_count": 1,
   "outputs": [],
   "source": [
    "import pandas as pd\n",
    "import numpy as np\n",
    "import copy"
   ],
   "metadata": {
    "collapsed": false
   }
  },
  {
   "cell_type": "markdown",
   "source": [
    "u.data     -- The full u data set, 100000 ratings by 943 users on 1682 items.\n",
    "              Each user has rated at least 20 movies.  Users and items are\n",
    "              numbered consecutively from 1.  The data is randomly\n",
    "              ordered. This is a tab separated list of\n",
    "\t         user id | item id | rating | timestamp.\n",
    "              The time stamps are unix seconds since 1/1/1970 UTC"
   ],
   "metadata": {
    "collapsed": false
   }
  },
  {
   "cell_type": "code",
   "execution_count": 2,
   "outputs": [],
   "source": [
    "def similarity_matrix(user_data: pd.DataFrame):\n",
    "    df = user_data.fillna(0)\n",
    "\n",
    "    # compute the cosine similarity\n",
    "    number_of_users = len(df.iloc[:,0])\n",
    "    cosine_sim = df.dot(df.T)\n",
    "    norms = np.sqrt(np.diag(cosine_sim))\n",
    "    cosine_sim = cosine_sim / np.outer(norms, norms)\n",
    "\n",
    "    # convert the result to a DataFrame\n",
    "    similarities = pd.DataFrame(cosine_sim, index=df.columns, columns=df.columns)\n",
    "    similarities = similarities.iloc[:number_of_users, :number_of_users]\n",
    "    similarities = similarities.rename_axis('user id',axis=1).rename_axis('user id',axis=0)\n",
    "    return similarities\n",
    "\n",
    "def recommend(user_id, k, data):\n",
    "    #calculating similarity matrix\n",
    "    sim_mat = similarity_matrix(data)\n",
    "    #getting k-nn for user\n",
    "    neighbors = copy.deepcopy(sim_mat.loc[:,user_id])\n",
    "    neighbors.sort_values(ascending=False, inplace=True)\n",
    "    neighbors = neighbors[1:k+1]\n",
    "\n",
    "\n",
    "    number_of_items = len(user_data.iloc[0,:])\n",
    "    recommendations_vector = pd.Series([0]*number_of_items, index=range(1,number_of_items+1))\n",
    "\n",
    "    #adding up weighted recommendations\n",
    "    for user in neighbors.index:\n",
    "        recommendations_vector += data.loc[user,:].fillna(0).apply(lambda x: x*neighbors.loc[user])\n",
    "    user_vector = data.loc[user_id,:]\n",
    "    recommendation = (recommendations_vector[user_vector.isna()].sort_values(ascending=False).index[0] ,recommendations_vector[user_vector.isna()].sort_values(ascending=False).iloc[0])\n",
    "\n",
    "    # returning none if highest score is 0 or recommendation in other case\n",
    "    if recommendation[1] == 0: return None\n",
    "    else: return recommendation[0]\n"
   ],
   "metadata": {
    "collapsed": false
   }
  },
  {
   "cell_type": "code",
   "execution_count": 3,
   "outputs": [
    {
     "name": "stdout",
     "output_type": "stream",
     "text": [
      "For user 11 I recommend 50\n",
      "For user 22 I recommend 183\n",
      "For user 33 I recommend 259\n",
      "For user 44 I recommend 210\n",
      "For user 55 I recommend 183\n",
      "For user 66 I recommend 118\n",
      "For user 77 I recommend 318\n",
      "For user 88 I recommend 269\n",
      "For user 99 I recommend 96\n",
      "For user 111 I recommend 345\n",
      "For user 1 I recommend 474\n",
      "For user 2 I recommend 750\n",
      "For user 3 I recommend 313\n",
      "For user 4 I recommend 305\n",
      "For user 5 I recommend 746\n"
     ]
    }
   ],
   "source": [
    "path_to_data = 'ml-100k/u.data'\n",
    "user_data = pd.read_csv(path_to_data, sep='\\t', names=['user id', 'item id', 'rating'], usecols=[0,1,2])\n",
    "user_data = user_data.pivot(index='user id', columns='item id', values='rating')\n",
    "\n",
    "\n",
    "arbitrary_10_users = [11,22,33,44,55,66,77,88,99,111]\n",
    "for user_id in arbitrary_10_users:\n",
    "    print(f\"For user {user_id} I recommend {recommend(user_id=user_id, k=5, data=user_data)}\")\n",
    "\n",
    "\n",
    "users_from_task = [1,2,3,4,5]\n",
    "for user_id in users_from_task:\n",
    "    print(f\"For user {user_id} I recommend {recommend(user_id=user_id, k=5, data=user_data)}\")\n"
   ],
   "metadata": {
    "collapsed": false
   }
  }
 ],
 "metadata": {
  "kernelspec": {
   "display_name": "Python 3",
   "language": "python",
   "name": "python3"
  },
  "language_info": {
   "codemirror_mode": {
    "name": "ipython",
    "version": 2
   },
   "file_extension": ".py",
   "mimetype": "text/x-python",
   "name": "python",
   "nbconvert_exporter": "python",
   "pygments_lexer": "ipython2",
   "version": "2.7.6"
  }
 },
 "nbformat": 4,
 "nbformat_minor": 0
}
