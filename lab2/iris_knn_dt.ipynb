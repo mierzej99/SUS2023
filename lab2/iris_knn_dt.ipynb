{
 "nbformat": 4,
 "nbformat_minor": 0,
 "metadata": {
  "kernelspec": {
   "display_name": "Python 3",
   "language": "python",
   "name": "python3"
  },
  "language_info": {
   "codemirror_mode": {
    "name": "ipython",
    "version": 3
   },
   "file_extension": ".py",
   "mimetype": "text/x-python",
   "name": "python",
   "nbconvert_exporter": "python",
   "pygments_lexer": "ipython3",
   "version": "3.7.0"
  },
  "colab": {
   "provenance": []
  }
 },
 "cells": [
  {
   "cell_type": "code",
   "metadata": {
    "id": "bhhSAJ6-kKIJ",
    "colab": {
     "base_uri": "https://localhost:8080/",
     "height": 860
    },
    "outputId": "4f3de472-be02-4220-845e-fa25914cef94"
   },
   "source": [
    "# Python program to demonstrate \n",
    "# KNN classification algorithm \n",
    "# on IRIS dataset \n",
    "  \n",
    "from sklearn.datasets import load_iris \n",
    "from sklearn.datasets import load_wine \n",
    "\n",
    "import numpy as np \n",
    "import pandas as pd \n",
    "from sklearn.model_selection import train_test_split \n",
    "\n",
    "iris_dataset=load_iris() \n",
    "wine_dataset=load_wine()\n",
    "  \n",
    "def sklearn_to_df(sklearn_dataset):\n",
    "    df = pd.DataFrame(sklearn_dataset.data, columns=sklearn_dataset.feature_names)\n",
    "    df['target'] = pd.Series(sklearn_dataset.target)\n",
    "    return df\n",
    "\n",
    "df_iris = sklearn_to_df(iris_dataset)\n",
    "pd.set_option('display.max_rows', 20)\n",
    "pd.set_option('display.max_columns', df_iris.shape[1]+1)\n",
    "\n",
    "print(df_iris.iloc[0:150])\n",
    "\n"
   ],
   "execution_count": 1,
   "outputs": [
    {
     "name": "stdout",
     "output_type": "stream",
     "text": [
      "     sepal length (cm)  sepal width (cm)  petal length (cm)  petal width (cm)  \\\n",
      "0                  5.1               3.5                1.4               0.2   \n",
      "1                  4.9               3.0                1.4               0.2   \n",
      "2                  4.7               3.2                1.3               0.2   \n",
      "3                  4.6               3.1                1.5               0.2   \n",
      "4                  5.0               3.6                1.4               0.2   \n",
      "..                 ...               ...                ...               ...   \n",
      "145                6.7               3.0                5.2               2.3   \n",
      "146                6.3               2.5                5.0               1.9   \n",
      "147                6.5               3.0                5.2               2.0   \n",
      "148                6.2               3.4                5.4               2.3   \n",
      "149                5.9               3.0                5.1               1.8   \n",
      "\n",
      "     target  \n",
      "0         0  \n",
      "1         0  \n",
      "2         0  \n",
      "3         0  \n",
      "4         0  \n",
      "..      ...  \n",
      "145       2  \n",
      "146       2  \n",
      "147       2  \n",
      "148       2  \n",
      "149       2  \n",
      "\n",
      "[150 rows x 5 columns]\n"
     ]
    }
   ]
  },
  {
   "cell_type": "code",
   "metadata": {
    "id": "BVtEJHVxr2Pi",
    "colab": {
     "base_uri": "https://localhost:8080/",
     "height": 240
    },
    "outputId": "9aa831f9-bff6-4fb4-d7b2-94713eb3f2c1"
   },
   "source": [
    "wine_dataset.feature_names"
   ],
   "execution_count": null,
   "outputs": []
  },
  {
   "cell_type": "code",
   "metadata": {
    "id": "tVMVCldxsGHr",
    "colab": {
     "base_uri": "https://localhost:8080/",
     "height": 137
    },
    "outputId": "9ad8b56a-1931-4942-e925-80ddb9c85f21"
   },
   "source": [
    "iris_dataset.target\n"
   ],
   "execution_count": null,
   "outputs": []
  },
  {
   "cell_type": "code",
   "metadata": {
    "id": "JPe2_TW0sLe6",
    "colab": {
     "base_uri": "https://localhost:8080/",
     "height": 34
    },
    "outputId": "52165ca4-06d9-446f-aa5e-a5f046a11ced"
   },
   "source": [
    "iris_dataset.target_names"
   ],
   "execution_count": null,
   "outputs": []
  },
  {
   "cell_type": "code",
   "metadata": {
    "id": "xt5FIZc-DshE",
    "colab": {
     "base_uri": "https://localhost:8080/",
     "height": 817
    },
    "outputId": "e16d8273-beae-41d7-f8e4-98c3bdd3defe"
   },
   "source": [
    "import matplotlib.pyplot as plt\n",
    "from mpl_toolkits.mplot3d import Axes3D\n",
    "from sklearn.decomposition import PCA\n",
    "\n",
    "X = iris_dataset.data\n",
    "y = iris_dataset.target\n",
    "x_min, x_max = X[:, 0].min() - .5, X[:, 0].max() + .5\n",
    "y_min, y_max = X[:, 1].min() - .5, X[:, 1].max() + .5\n",
    "\n",
    "plt.figure(2, figsize=(8, 6))\n",
    "plt.clf()\n",
    "\n",
    "# Plot the training points\n",
    "plt.scatter(X[:, 0], X[:, 1], c=y, cmap=plt.cm.Set1,\n",
    "            edgecolor='k')\n",
    "plt.xlabel('Sepal length')\n",
    "plt.ylabel('Sepal width')\n",
    "\n",
    "plt.xlim(x_min, x_max)\n",
    "plt.ylim(y_min, y_max)\n",
    "plt.xticks(())\n",
    "plt.yticks(())\n",
    "\n",
    "# To getter a better understanding of interaction of the dimensions\n",
    "# plot the first three PCA dimensions\n",
    "fig = plt.figure(1, figsize=(8, 6))\n",
    "ax = Axes3D(fig, elev=-150, azim=110)\n",
    "X_reduced = PCA(n_components=3).fit_transform(X)\n",
    "ax.scatter(X_reduced[:, 0], X_reduced[:, 1], X_reduced[:, 2], c=y,\n",
    "           cmap=plt.cm.Set1, edgecolor='k', s=40)\n",
    "ax.set_title(\"First three PCA directions\")\n",
    "ax.set_xlabel(\"1st eigenvector\")\n",
    "ax.w_xaxis.set_ticklabels([])\n",
    "ax.set_ylabel(\"2nd eigenvector\")\n",
    "ax.w_yaxis.set_ticklabels([])\n",
    "ax.set_zlabel(\"3rd eigenvector\")\n",
    "ax.w_zaxis.set_ticklabels([])\n",
    "\n",
    "plt.show()"
   ],
   "execution_count": null,
   "outputs": []
  },
  {
   "cell_type": "code",
   "metadata": {
    "id": "d1DFPZo793de",
    "colab": {
     "base_uri": "https://localhost:8080/",
     "height": 34
    },
    "outputId": "1d19eae3-2067-4940-d753-c73f0e37586e"
   },
   "source": [
    "X_train, X_test, y_train, y_test = train_test_split(iris_dataset[\"data\"],\n",
    "      iris_dataset[\"target\"], train_size=0.6, random_state=49) \n",
    "  \n",
    "X_train.shape"
   ],
   "execution_count": null,
   "outputs": []
  },
  {
   "cell_type": "code",
   "metadata": {
    "id": "UBqOKJ63829H",
    "colab": {
     "base_uri": "https://localhost:8080/",
     "height": 103
    },
    "outputId": "b562387a-d652-4b1b-9fa9-f26c33d59e74"
   },
   "source": [
    "from sklearn.neighbors import KNeighborsClassifier \n",
    "kn = KNeighborsClassifier(n_neighbors=5) \n",
    "kn.fit(X_train, y_train) \n",
    "  \n",
    "x_new = np.array([[6.2, 3.4, 5.4, 2.3]]) \n",
    "prediction = kn.predict(x_new) \n",
    "  \n",
    "print(\"Predicted target value: {}\\n\".format(prediction)) \n",
    "print(\"Predicted feature name: {}\\n\".format\n",
    "    (iris_dataset[\"target_names\"][prediction])) \n",
    "print(\"Test score: {:.2f}\".format(kn.score(X_test, y_test))) "
   ],
   "execution_count": null,
   "outputs": []
  },
  {
   "cell_type": "code",
   "metadata": {
    "id": "I7T2bptQkKIT",
    "colab": {
     "base_uri": "https://localhost:8080/",
     "height": 68
    },
    "outputId": "3d9ca0be-1a2b-4cc5-9830-4deaae1f36b7"
   },
   "source": [
    "from sklearn.metrics import confusion_matrix\n",
    "\n",
    "y_pred = kn.predict ( X_test )\n",
    "confusion_matrix ( y_test , y_pred )\n",
    "\n"
   ],
   "execution_count": null,
   "outputs": []
  },
  {
   "cell_type": "code",
   "metadata": {
    "id": "mUCpaJbhkKIR",
    "colab": {
     "base_uri": "https://localhost:8080/",
     "height": 68
    },
    "outputId": "e5882d88-4d6b-4a21-f379-9c4917f073ee"
   },
   "source": [
    "from sklearn.tree import DecisionTreeClassifier\n",
    "\n",
    "tree_clf = DecisionTreeClassifier (criterion='gini',max_depth =4)\n",
    "tree_clf.fit(X_train, y_train)\n",
    "\n",
    "prediction = tree_clf.predict(x_new) \n",
    "print(\"Predicted feature name: {}\\n\".format\n",
    "    (iris_dataset[\"target_names\"][prediction])) \n",
    "\n",
    "print(\"Test score: {:.2f}\".format(tree_clf.score(X_test, y_test))) "
   ],
   "execution_count": null,
   "outputs": []
  },
  {
   "cell_type": "code",
   "metadata": {
    "id": "K6_n49a-kKIW",
    "colab": {
     "base_uri": "https://localhost:8080/",
     "height": 68
    },
    "outputId": "6c4f4561-da4b-4d5a-ffd1-b45eaf73490e"
   },
   "source": [
    "y_pred = tree_clf.predict ( X_test )\n",
    "confusion_matrix ( y_test , y_pred )"
   ],
   "execution_count": null,
   "outputs": []
  },
  {
   "cell_type": "code",
   "metadata": {
    "id": "bn62RIGgkKIZ",
    "colab": {
     "base_uri": "https://localhost:8080/",
     "height": 86
    },
    "outputId": "60d9d822-61b2-45c7-dd7c-f9cbcd362ba9"
   },
   "source": [
    "print(y_test) \n",
    "print(y_pred)"
   ],
   "execution_count": null,
   "outputs": []
  },
  {
   "cell_type": "code",
   "metadata": {
    "id": "8ktuDGCkkKIc",
    "colab": {
     "base_uri": "https://localhost:8080/",
     "height": 757
    },
    "outputId": "34429007-0658-4094-aace-63aa5a4b575b"
   },
   "source": [
    "#from sklearn.externals.six import StringIO  \n",
    "#from IPython.display import Image  \n",
    "#from sklearn.tree import export_graphviz\n",
    "#import pydotplus\n",
    "\n",
    "from sklearn.tree import export_graphviz\n",
    "from sklearn import tree\n",
    "from IPython.display import SVG\n",
    "from graphviz import Source\n",
    "from IPython.display import display\n",
    "labels = iris_dataset.feature_names\n",
    "\n",
    "graph = Source(tree.export_graphviz(tree_clf, out_file=None\n",
    "   , feature_names=labels, class_names=iris_dataset.target_names\n",
    "   , filled = True))\n",
    "display(SVG(graph.pipe(format='svg')))"
   ],
   "execution_count": null,
   "outputs": []
  },
  {
   "cell_type": "code",
   "metadata": {
    "id": "OOpflzvxvOi_",
    "colab": {
     "base_uri": "https://localhost:8080/",
     "height": 1000
    },
    "outputId": "543edd41-7247-4e70-9396-18a39f708aa3"
   },
   "source": [
    "#General framework\n",
    "# import some libraries\n",
    "# GIVEN: data set D, learning method M\n",
    "# 1) split data into train and test\n",
    "# 2) use method M to generate a model (a classifier) Clr: X ---> y\n",
    "# 3) use test data to evaluate the quality of Clr\n",
    "\n",
    "from sklearn.datasets import load_iris \n",
    "\n",
    "iris_dataset=load_iris()\n",
    "print(iris_dataset.DESCR)\n",
    "print(iris_dataset.target_names)\n",
    "print(iris_dataset.feature_names)\n"
   ],
   "execution_count": null,
   "outputs": []
  },
  {
   "cell_type": "code",
   "metadata": {
    "id": "3Zo5k8hExaYz",
    "colab": {
     "base_uri": "https://localhost:8080/",
     "height": 108
    },
    "outputId": "4a595471-2d99-4217-9107-2b5c3cc96324"
   },
   "source": [
    "print(iris_dataset[\"target\"].T)"
   ],
   "execution_count": null,
   "outputs": []
  },
  {
   "cell_type": "code",
   "metadata": {
    "id": "6ErQ0woYwU5d",
    "colab": {
     "base_uri": "https://localhost:8080/",
     "height": 35
    },
    "outputId": "cbbed166-692c-415f-b63d-5906df6000a3"
   },
   "source": [
    "# split data into train and test\n",
    "from sklearn.model_selection import train_test_split \n",
    "X = iris_dataset[\"data\"]\n",
    "y = iris_dataset[\"target\"]\n",
    "\n",
    "X_train, X_test, y_train, y_test = train_test_split(X,y, train_size=0.7, random_state=49) \n",
    "\n",
    "# X_train, X_test, y_train, y_test are arrays in NumPy\n",
    "\n",
    "X_train.shape"
   ],
   "execution_count": null,
   "outputs": []
  },
  {
   "cell_type": "code",
   "metadata": {
    "id": "gz7h6dOsx-sL",
    "colab": {
     "base_uri": "https://localhost:8080/",
     "height": 72
    },
    "outputId": "fb0d4b65-38c5-481d-c4e0-faccd4b22a91"
   },
   "source": [
    "# Using kNN classifier\n",
    "from sklearn.neighbors import KNeighborsClassifier \n",
    "\n",
    "knn = KNeighborsClassifier(n_neighbors=5) \n",
    "knn.fit(X_train, y_train)"
   ],
   "execution_count": null,
   "outputs": []
  },
  {
   "cell_type": "code",
   "metadata": {
    "id": "ti_0Slra2tQe",
    "colab": {
     "base_uri": "https://localhost:8080/",
     "height": 126
    },
    "outputId": "f7cef792-674f-4371-82aa-919adcb9bafc"
   },
   "source": [
    "# Using Decision tree\n",
    "from sklearn.tree import DecisionTreeClassifier\n",
    "\n",
    "tree_clf = DecisionTreeClassifier (criterion='gini',max_depth =4)\n",
    "tree_clf.fit(X_train, y_train)"
   ],
   "execution_count": null,
   "outputs": []
  },
  {
   "cell_type": "code",
   "metadata": {
    "id": "GSio-q3s35rr"
   },
   "source": [
    "# Using SVM?"
   ],
   "execution_count": null,
   "outputs": []
  },
  {
   "cell_type": "code",
   "metadata": {
    "id": "5WY5CeHkyfJB",
    "colab": {
     "base_uri": "https://localhost:8080/",
     "height": 126
    },
    "outputId": "79e10539-9833-49a5-e7cd-2db8be344b6f"
   },
   "source": [
    "# using and evaluation of the model\n",
    "import numpy as np\n",
    "\n",
    "x_new = np.array([[6.2, 3.4, 5.2, 2.3]]) \n",
    "prediction = knn.predict(x_new) \n",
    "pred2 = tree_clf.predict(x_new)\n",
    "\n",
    "print(\"Predicted target value: {}\\n\".format(prediction)) \n",
    "print(\"Predicted feature name: {}\\n\".format\n",
    "    (iris_dataset[\"target_names\"][prediction])) \n",
    "print(\"Prediction of decision tree: {}\\n\".format\n",
    "    (iris_dataset[\"target_names\"][pred2])) \n"
   ],
   "execution_count": null,
   "outputs": []
  },
  {
   "cell_type": "code",
   "metadata": {
    "id": "u90VFdLv6FuQ",
    "colab": {
     "base_uri": "https://localhost:8080/",
     "height": 72
    },
    "outputId": "640a2a02-3560-40f5-8481-ff764c47da9c"
   },
   "source": [
    "knn.predict(X_test)"
   ],
   "execution_count": null,
   "outputs": []
  },
  {
   "cell_type": "code",
   "metadata": {
    "id": "QYzBHnVx6UEW",
    "colab": {
     "base_uri": "https://localhost:8080/",
     "height": 72
    },
    "outputId": "e8193557-6f17-41a4-f348-4f95bef34262"
   },
   "source": [
    "y_test"
   ],
   "execution_count": null,
   "outputs": []
  },
  {
   "cell_type": "code",
   "metadata": {
    "id": "B5Z6y2zi6vd1",
    "colab": {
     "base_uri": "https://localhost:8080/",
     "height": 35
    },
    "outputId": "d885719a-6994-48b5-bce6-93bf7a1fcbb3"
   },
   "source": [
    "# accuracy of a classifier\n",
    "knn.score(X_test,y_test)"
   ],
   "execution_count": null,
   "outputs": []
  },
  {
   "cell_type": "code",
   "metadata": {
    "id": "YDvRsgzM7Div",
    "colab": {
     "base_uri": "https://localhost:8080/",
     "height": 35
    },
    "outputId": "856a8046-faab-4c78-9883-a7836071dc23"
   },
   "source": [
    "tree_clf.score(X_test,y_test)"
   ],
   "execution_count": null,
   "outputs": []
  },
  {
   "cell_type": "code",
   "metadata": {
    "id": "_mTi_eMG7fKl",
    "colab": {
     "base_uri": "https://localhost:8080/",
     "height": 72
    },
    "outputId": "b0f50d05-7a49-4873-f5d8-c7ebbca110dd"
   },
   "source": [
    "from sklearn.metrics import confusion_matrix\n",
    "\n",
    "y_pred = knn.predict ( X_test )\n",
    "confusion_matrix ( y_test , y_pred )"
   ],
   "execution_count": null,
   "outputs": []
  },
  {
   "cell_type": "code",
   "metadata": {
    "id": "pLlhuSzk8EMO",
    "colab": {
     "base_uri": "https://localhost:8080/",
     "height": 72
    },
    "outputId": "34ab30e3-a0d1-4a8f-82f2-32e4568a9a8c"
   },
   "source": [
    "from sklearn.metrics import confusion_matrix\n",
    "\n",
    "y_pred = tree_clf.predict ( X_test )\n",
    "confusion_matrix ( y_test , y_pred )"
   ],
   "execution_count": null,
   "outputs": []
  }
 ]
}
