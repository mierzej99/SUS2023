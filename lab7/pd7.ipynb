{
 "cells": [
  {
   "cell_type": "code",
   "execution_count": null,
   "metadata": {
    "ExecuteTime": {
     "start_time": "2023-04-17T23:22:58.276487Z",
     "end_time": "2023-04-17T23:22:58.775322Z"
    }
   },
   "outputs": [],
   "source": [
    "import numpy as np\n",
    "import matplotlib.pyplot as plt\n",
    "import time\n",
    "class LinearRegresion():\n",
    "    def __init__(self, learning_rate, iterations):\n",
    "        self.learning_rate = learning_rate\n",
    "        self.iterations = iterations\n",
    "\n",
    "    def fit(self, X, Y, use_np=False, visual=False):\n",
    "        self.cof = 0\n",
    "        self.b = 0\n",
    "        self.error = np.empty(0)\n",
    "\n",
    "        fig = plt.figure(figsize=[1.5*6.4, 1.5*4.8])\n",
    "        sub1 = fig.add_subplot(121)\n",
    "        sub2 = fig.add_subplot(122)\n",
    "\n",
    "        for i in range(self.iterations):\n",
    "            self.error = np.append(self.error, self.loss(X,Y))\n",
    "            if use_np:\n",
    "                if self.loss_der_numpy(X,Y) <= 0.001:\n",
    "                    break\n",
    "            else:\n",
    "                if self.loss_der_pure(X,Y) <= 0.001:\n",
    "                    break\n",
    "            if visual:\n",
    "                self.plot_results(sub1, sub2, X, Y)\n",
    "                time.sleep(0.5)\n",
    "        self.error = np.append(self.error, self.loss(X,Y))\n",
    "\n",
    "        self.plot_results(sub1, sub2, X, Y)\n",
    "\n",
    "\n",
    "    def predict(self, X):\n",
    "        x = np.asarray(X)\n",
    "        return x*self.cof+self.b\n",
    "\n",
    "    def loss_der_pure(self, X, Y):\n",
    "        cof_der = 0\n",
    "        b_der = 0\n",
    "        for x,y in zip(X,Y):\n",
    "            cof_der -= 2*(y-x*self.cof-self.b)*x\n",
    "            b_der -= 2*(y - self.cof*x - self.b)\n",
    "        self.cof -= self.learning_rate*cof_der\n",
    "        self.b -= self.learning_rate*b_der\n",
    "\n",
    "        return self.learning_rate*abs(cof_der+b_der)\n",
    "\n",
    "    def loss_der_numpy(self, X, Y):\n",
    "        x = np.asarray(X)\n",
    "        y = np.asarray(Y)\n",
    "\n",
    "        cof_der = np.sum(-2*(y-x*self.cof-self.b)*x)\n",
    "        b_der = np.sum(-2*(y - self.cof*x - self.b))\n",
    "\n",
    "        self.cof -= self.learning_rate*cof_der\n",
    "        self.b -= self.learning_rate*b_der\n",
    "\n",
    "        return self.learning_rate*abs(cof_der+b_der)\n",
    "\n",
    "\n",
    "    def plot_results(self, sub1, sub2, X, Y):\n",
    "        sub1.cla()\n",
    "        sub2.cla()\n",
    "        \n",
    "        sub1.title.set_text('Error')\n",
    "        sub1.set_xlabel('Iterations')\n",
    "        sub1.set_ylabel('Error')\n",
    "        \n",
    "        sub2.title.set_text('Model')\n",
    "        sub2.set_xlabel('x')\n",
    "        sub2.set_ylabel('y')\n",
    "        \n",
    "        \n",
    "        sub1.plot(list(range(len(self.error))), self.error)\n",
    "        sub1.set_ylim(bottom=0)\n",
    "        \n",
    "        x = np.linspace(X.min()-1, X.max()+1, 1000)\n",
    "        y = self.predict(x)\n",
    "        sub2.plot(x,y)\n",
    "        sub2.plot(X, Y, linestyle=\"\",marker=\"o\")\n",
    "        sub2.set_ylim(top=10)\n",
    "\n",
    "        sub1.figure.canvas.draw()\n",
    "\n",
    "    def loss(self, X, Y):\n",
    "        x = np.asarray(X)\n",
    "        y = np.asarray(Y)\n",
    "\n",
    "        return np.sum((y-x*self.cof-self.b)**2)\n",
    "\n",
    "    def RMSE(self, X, Y):\n",
    "        return ((self.loss(X,Y))/len(X))**(1/2)\n",
    "\n",
    "    def MAE(self, X, Y):\n",
    "        x = np.asarray(X)\n",
    "        y = np.asarray(Y)\n",
    "\n",
    "        return np.sum(abs(y-x*self.cof-self.b))/len(X)\n",
    "\n",
    "    def R2(self, X ,Y):\n",
    "        x = np.asarray(X)\n",
    "        y = np.asarray(Y)\n",
    "        return np.sum((self.predict(x)-y.mean())**2)/np.sum((y-y.mean())**2)\n"
   ]
  },
  {
   "cell_type": "code",
   "execution_count": null,
   "metadata": {
    "ExecuteTime": {
     "start_time": "2023-04-17T23:22:58.783494Z",
     "end_time": "2023-04-17T23:22:58.788352Z"
    }
   },
   "outputs": [],
   "source": [
    "experience = np.array([2.4,5.0,1.5,3.8,8.7,3.6,1.2,8.1,2.5,5,1.6,1.6,2.4,3.9,5.4])\n",
    "salary = np.array([2.1,4.7,1.7,3.6,8.7,3.2,1.0,8.0,2.4,6,1.1,1.3,2.4,3.9,4.8])\n",
    "\n",
    "linreg = LinearRegresion(learning_rate=0.0001, iterations=1000)"
   ]
  },
  {
   "cell_type": "code",
   "execution_count": null,
   "metadata": {
    "ExecuteTime": {
     "end_time": "2023-04-17T22:53:39.631847Z",
     "start_time": "2023-04-17T22:53:39.485562Z"
    }
   },
   "outputs": [],
   "source": [
    "%matplotlib notebook\n",
    "# set visual=False to just get the result without plotting for every step\n",
    "linreg.fit(experience, salary, use_np=True, visual=True)"
   ]
  },
  {
   "cell_type": "code",
   "execution_count": null,
   "metadata": {},
   "outputs": [],
   "source": [
    "print(f\"Prediction (x, prediction for x)\\n{list(zip(experience, linreg.predict(experience)))}\")\n",
    "print(f\"RMSE={linreg.RMSE(experience, salary)}, MAE={linreg.MAE(experience, salary)}, R^2={linreg.R2(experience, salary)}\")"
   ]
  }
 ],
 "metadata": {
  "kernelspec": {
   "display_name": "Python 3 (ipykernel)",
   "language": "python",
   "name": "python3"
  },
  "language_info": {
   "codemirror_mode": {
    "name": "ipython",
    "version": 3
   },
   "file_extension": ".py",
   "mimetype": "text/x-python",
   "name": "python",
   "nbconvert_exporter": "python",
   "pygments_lexer": "ipython3",
   "version": "3.8.10"
  }
 },
 "nbformat": 4,
 "nbformat_minor": 1
}
