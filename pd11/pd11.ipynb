{
 "cells": [
  {
   "cell_type": "code",
   "execution_count": 1,
   "metadata": {
    "collapsed": true,
    "ExecuteTime": {
     "end_time": "2023-05-26T10:43:52.331322822Z",
     "start_time": "2023-05-26T10:43:49.105151359Z"
    }
   },
   "outputs": [],
   "source": [
    "import torch, torchvision\n",
    "from torch.utils.data import DataLoader\n",
    "import torch.nn as nn\n",
    "from tqdm import tqdm\n",
    "import matplotlib.pyplot as plt\n",
    "torch.set_num_threads(4)"
   ]
  },
  {
   "cell_type": "code",
   "execution_count": 2,
   "metadata": {
    "ExecuteTime": {
     "end_time": "2023-05-26T10:43:54.290570186Z",
     "start_time": "2023-05-26T10:43:52.342385867Z"
    }
   },
   "outputs": [
    {
     "name": "stdout",
     "output_type": "stream",
     "text": [
      "Files already downloaded and verified\n",
      "Files already downloaded and verified\n"
     ]
    }
   ],
   "source": [
    "transform = torchvision.transforms.ToTensor()\n",
    "\n",
    "train_dataset = torchvision.datasets.CIFAR10(root='./data', train=True, download=True, transform=transform)\n",
    "test_dataset = torchvision.datasets.CIFAR10(root='./data', train=False, download=True, transform=transform)\n",
    "\n",
    "b_s=512\n",
    "train_DL = DataLoader(train_dataset, batch_size=b_s, shuffle=True)\n",
    "test_DL = DataLoader(test_dataset, batch_size=b_s, shuffle=True)\n"
   ]
  },
  {
   "cell_type": "code",
   "execution_count": 3,
   "outputs": [],
   "source": [
    "class MyConvNet(nn.Module):\n",
    "    def __init__(self, activation):\n",
    "        super().__init__()\n",
    "        self.c1 = nn.Conv2d(3, 5, 7)\n",
    "        self.a1 = activation\n",
    "        self.p1 = nn.AvgPool2d(2, 2)\n",
    "        self.c2 = nn.Conv2d(5, 5, 4)\n",
    "        self.a2 = activation\n",
    "        self.p2 = nn.MaxPool2d(2, 2)\n",
    "        self.fc1 = nn.Linear(5*5*5, 100)\n",
    "        self.a3 = activation\n",
    "        self.fc2 = nn.Linear(100, 10)\n",
    "\n",
    "        self.reset_parameters()\n",
    "\n",
    "    def reset_parameters(self):\n",
    "        for module in self.modules():\n",
    "            if isinstance(module, nn.Conv2d) or isinstance(module, nn.Linear):\n",
    "                nn.init.xavier_uniform_(module.weight)\n",
    "                if module.bias is not None:\n",
    "                    nn.init.zeros_(module.bias)\n",
    "\n",
    "    def forward(self, x):\n",
    "        x = self.c1(x)\n",
    "        x = self.a1(x)\n",
    "        x = self.p1(x)\n",
    "        x = self.c2(x)\n",
    "        x = self.a2(x)\n",
    "        x = self.p2(x)\n",
    "        x = x.view(-1, 5*5*5)\n",
    "        x = self.fc1(x)\n",
    "        x = self.a3(x)\n",
    "        x = self.fc2(x)\n",
    "        return x"
   ],
   "metadata": {
    "collapsed": false,
    "ExecuteTime": {
     "end_time": "2023-05-26T10:43:54.301885878Z",
     "start_time": "2023-05-26T10:43:54.299354323Z"
    }
   }
  },
  {
   "cell_type": "code",
   "execution_count": 4,
   "outputs": [],
   "source": [
    "def training(num_epochs, learning_rate, activation):\n",
    "    model = MyConvNet(activation)\n",
    "    criterion = nn.CrossEntropyLoss()\n",
    "    optimizer = torch.optim.SGD(model.parameters(), lr=learning_rate)\n",
    "    loss_hist_train = [0] * num_epochs\n",
    "\n",
    "    for epoch in tqdm(range(num_epochs)):\n",
    "        for images, labels in train_DL:\n",
    "            pred = model(images)\n",
    "            loss = criterion(pred, labels)\n",
    "\n",
    "            optimizer.zero_grad()\n",
    "            loss.backward()\n",
    "            optimizer.step()\n",
    "            loss_hist_train[epoch] += loss.item()\n",
    "        loss_hist_train[epoch] /= len(train_dataset)/b_s\n",
    "\n",
    "    fig = plt.figure()\n",
    "    ax = fig.add_subplot(1,1,1)\n",
    "    ax.plot(loss_hist_train)\n",
    "    ax.legend('Train loss')\n",
    "    ax.set_xlabel('Epochs')\n",
    "    return model\n",
    "\n",
    "def test_acc(model):\n",
    "    correct = 0\n",
    "    total = 0\n",
    "    with torch.no_grad():\n",
    "        for images, labels in test_DL:\n",
    "            pred = model(images)\n",
    "            _, predicted = torch.max(pred, 1)\n",
    "            total += labels.shape[0]\n",
    "            correct += (predicted == labels).sum().item()\n",
    "    return correct / total"
   ],
   "metadata": {
    "collapsed": false,
    "ExecuteTime": {
     "end_time": "2023-05-26T10:43:54.320697499Z",
     "start_time": "2023-05-26T10:43:54.309367906Z"
    }
   }
  },
  {
   "cell_type": "code",
   "execution_count": 5,
   "outputs": [
    {
     "data": {
      "text/plain": "'num_epochs = [x for x in range(10,51,10)]\\nlearning_rate = [0.1, 0.01, 0.001]\\nactivation = [nn.ReLU(), nn.Tanh(), nn.Sigmoid()]\\n\\nbest_acc = 0\\nfor e in num_epochs:\\n    for lr in learning_rate:\\n        for act in activation:\\n            model = training(e, lr, act)\\n            acc = test_acc(model)\\n            if acc > best_acc:\\n                best_acc = acc\\n                best_model = model\\n                best_hyper_params = e, lr, act'"
     },
     "execution_count": 5,
     "metadata": {},
     "output_type": "execute_result"
    }
   ],
   "source": [
    "\"\"\"num_epochs = [x for x in range(10,51,10)]\n",
    "learning_rate = [0.1, 0.01, 0.001]\n",
    "activation = [nn.ReLU(), nn.Tanh(), nn.Sigmoid()]\n",
    "\n",
    "best_acc = 0\n",
    "for e in num_epochs:\n",
    "    for lr in learning_rate:\n",
    "        for act in activation:\n",
    "            model = training(e, lr, act)\n",
    "            acc = test_acc(model)\n",
    "            if acc > best_acc:\n",
    "                best_acc = acc\n",
    "                best_model = model\n",
    "                best_hyper_params = e, lr, act\"\"\""
   ],
   "metadata": {
    "collapsed": false,
    "ExecuteTime": {
     "end_time": "2023-05-26T10:43:54.342489310Z",
     "start_time": "2023-05-26T10:43:54.322382488Z"
    }
   }
  },
  {
   "cell_type": "markdown",
   "source": [
    "Best params from grid search - num_epochs=50, learning_rate=0.1, activation=nn.Tanh()"
   ],
   "metadata": {
    "collapsed": false
   }
  },
  {
   "cell_type": "code",
   "execution_count": 6,
   "outputs": [
    {
     "name": "stderr",
     "output_type": "stream",
     "text": [
      "100%|██████████| 50/50 [12:17<00:00, 14.74s/it]\n"
     ]
    },
    {
     "data": {
      "text/plain": "<Figure size 640x480 with 1 Axes>",
      "image/png": "[encoded data removed]"
     },
     "metadata": {},
     "output_type": "display_data"
    }
   ],
   "source": [
    "best_model = training(50, 0.1, nn.Tanh())"
   ],
   "metadata": {
    "collapsed": false,
    "ExecuteTime": {
     "end_time": "2023-05-26T10:56:11.673538758Z",
     "start_time": "2023-05-26T10:43:54.339062760Z"
    }
   }
  },
  {
   "cell_type": "code",
   "execution_count": 7,
   "outputs": [
    {
     "name": "stdout",
     "output_type": "stream",
     "text": [
      "0.5143\n"
     ]
    }
   ],
   "source": [
    "print(test_acc(best_model))"
   ],
   "metadata": {
    "collapsed": false,
    "ExecuteTime": {
     "end_time": "2023-05-26T10:56:14.196399067Z",
     "start_time": "2023-05-26T10:56:11.677400620Z"
    }
   }
  }
 ],
 "metadata": {
  "kernelspec": {
   "display_name": "Python 3 (ipykernel)",
   "language": "python",
   "name": "python3"
  },
  "language_info": {
   "codemirror_mode": {
    "name": "ipython",
    "version": 3
   },
   "file_extension": ".py",
   "mimetype": "text/x-python",
   "name": "python",
   "nbconvert_exporter": "python",
   "pygments_lexer": "ipython3",
   "version": "3.10.6"
  }
 },
 "nbformat": 4,
 "nbformat_minor": 1
}
